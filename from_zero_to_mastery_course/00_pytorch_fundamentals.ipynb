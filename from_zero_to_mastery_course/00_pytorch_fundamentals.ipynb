{
  "nbformat": 4,
  "nbformat_minor": 0,
  "metadata": {
    "colab": {
      "provenance": []
    },
    "kernelspec": {
      "name": "python3",
      "display_name": "Python 3"
    },
    "language_info": {
      "name": "python"
    },
    "accelerator": "GPU",
    "gpuClass": "standard"
  },
  "cells": [
    {
      "cell_type": "markdown",
      "source": [
        "# 00. PyTorch fundamentals\n",
        "- Notebook: https://www.learnpytorch.io/00_pytorch_fundamentals/\n",
        "- Discussions: https://github.com/mrdbourke/pytorch-deep-learning/discussions"
      ],
      "metadata": {
        "id": "NDMxzPrQC15r"
      }
    },
    {
      "cell_type": "code",
      "source": [
        "# importing modules\n",
        "import numpy as np\n",
        "import pandas as pd\n",
        "import matplotlib.pyplot as plt \n",
        "import torch\n",
        "# printing torch version\n",
        "print(torch.__version__)"
      ],
      "metadata": {
        "colab": {
          "base_uri": "https://localhost:8080/"
        },
        "id": "cu5qeQJ-E2dk",
        "outputId": "27c5a8e6-5766-4e95-e98a-9a1fba2a137f"
      },
      "execution_count": null,
      "outputs": [
        {
          "output_type": "stream",
          "name": "stdout",
          "text": [
            "1.13.0+cu116\n"
          ]
        }
      ]
    },
    {
      "cell_type": "markdown",
      "source": [
        "## Introduction to Tensors\n",
        "### Creation "
      ],
      "metadata": {
        "id": "LyNKZ5r1Fb2Z"
      }
    },
    {
      "cell_type": "code",
      "source": [
        "# tensors are multi-dimentional matrices containing elements of a single data type\n",
        "# like a numpy array\n",
        "# scalar\n",
        "scalar = torch.tensor(7) \n",
        "scalar"
      ],
      "metadata": {
        "colab": {
          "base_uri": "https://localhost:8080/"
        },
        "id": "FbziupwMGfhY",
        "outputId": "0565865a-47b4-4536-e719-b17deb48350b"
      },
      "execution_count": null,
      "outputs": [
        {
          "output_type": "execute_result",
          "data": {
            "text/plain": [
              "tensor(7)"
            ]
          },
          "metadata": {},
          "execution_count": 7
        }
      ]
    },
    {
      "cell_type": "code",
      "source": [
        "# number of dimensions\n",
        "scalar.ndim # 0 because it has no dimensions\n",
        "# to retrieve the scalar tensor as a scalar \n",
        "scalar.item()"
      ],
      "metadata": {
        "colab": {
          "base_uri": "https://localhost:8080/"
        },
        "id": "hj-5QXwwG-WU",
        "outputId": "fc83a517-45d6-4ce9-dee8-7d51ad3ed50c"
      },
      "execution_count": null,
      "outputs": [
        {
          "output_type": "execute_result",
          "data": {
            "text/plain": [
              "7"
            ]
          },
          "metadata": {},
          "execution_count": 9
        }
      ]
    },
    {
      "cell_type": "code",
      "source": [
        "# vector\n",
        "vector = torch.tensor([7, 7])\n",
        "vector"
      ],
      "metadata": {
        "colab": {
          "base_uri": "https://localhost:8080/"
        },
        "id": "dkAhNM_wHF16",
        "outputId": "09dc1ae5-2e54-41d4-e81a-8f1927497da3"
      },
      "execution_count": null,
      "outputs": [
        {
          "output_type": "execute_result",
          "data": {
            "text/plain": [
              "tensor([7, 7])"
            ]
          },
          "metadata": {},
          "execution_count": 10
        }
      ]
    },
    {
      "cell_type": "code",
      "source": [
        "# vectors have only 1 dimension (number of square brackets)\n",
        "vector.ndim "
      ],
      "metadata": {
        "colab": {
          "base_uri": "https://localhost:8080/"
        },
        "id": "5Lg-xRlCHfAO",
        "outputId": "3e25b61d-23e8-4b69-9c88-348c6273e12a"
      },
      "execution_count": null,
      "outputs": [
        {
          "output_type": "execute_result",
          "data": {
            "text/plain": [
              "1"
            ]
          },
          "metadata": {},
          "execution_count": 12
        }
      ]
    },
    {
      "cell_type": "code",
      "source": [
        "# shape : number of elements of the tensor in each dim\n",
        "vector.shape"
      ],
      "metadata": {
        "colab": {
          "base_uri": "https://localhost:8080/"
        },
        "id": "oy-os63-Hhbu",
        "outputId": "d2c6a821-c739-481a-9af4-589e50b978e1"
      },
      "execution_count": null,
      "outputs": [
        {
          "output_type": "execute_result",
          "data": {
            "text/plain": [
              "torch.Size([2])"
            ]
          },
          "metadata": {},
          "execution_count": 13
        }
      ]
    },
    {
      "cell_type": "code",
      "source": [
        "# Matrix\n",
        "MATRIX = torch.tensor([[7,5], [6,3]])\n",
        "MATRIX"
      ],
      "metadata": {
        "colab": {
          "base_uri": "https://localhost:8080/"
        },
        "id": "672wAsypHq2M",
        "outputId": "3d0f017d-4aa3-4b4d-a68f-52369b30cdc5"
      },
      "execution_count": null,
      "outputs": [
        {
          "output_type": "execute_result",
          "data": {
            "text/plain": [
              "tensor([[7, 5],\n",
              "        [6, 3]])"
            ]
          },
          "metadata": {},
          "execution_count": 14
        }
      ]
    },
    {
      "cell_type": "code",
      "source": [
        "MATRIX.ndim"
      ],
      "metadata": {
        "colab": {
          "base_uri": "https://localhost:8080/"
        },
        "id": "frxsZ5bCH-6e",
        "outputId": "b4dbd83c-59d9-425b-eaf8-21006ba6c798"
      },
      "execution_count": null,
      "outputs": [
        {
          "output_type": "execute_result",
          "data": {
            "text/plain": [
              "2"
            ]
          },
          "metadata": {},
          "execution_count": 15
        }
      ]
    },
    {
      "cell_type": "code",
      "source": [
        "MATRIX.shape"
      ],
      "metadata": {
        "colab": {
          "base_uri": "https://localhost:8080/"
        },
        "id": "dfDDNsRdIA3l",
        "outputId": "7657e42d-4352-4955-cf97-66ea297c3a45"
      },
      "execution_count": null,
      "outputs": [
        {
          "output_type": "execute_result",
          "data": {
            "text/plain": [
              "torch.Size([2, 2])"
            ]
          },
          "metadata": {},
          "execution_count": 16
        }
      ]
    },
    {
      "cell_type": "code",
      "source": [
        "# Tensor\n",
        "TENSOR =torch.tensor([[[1]]])\n",
        "TENSOR"
      ],
      "metadata": {
        "colab": {
          "base_uri": "https://localhost:8080/"
        },
        "id": "cpxKVILsIgK5",
        "outputId": "5a489f47-90d6-4316-b7a9-a0de3c3d9b52"
      },
      "execution_count": null,
      "outputs": [
        {
          "output_type": "execute_result",
          "data": {
            "text/plain": [
              "tensor([[[1]]])"
            ]
          },
          "metadata": {},
          "execution_count": 17
        }
      ]
    },
    {
      "cell_type": "code",
      "source": [
        "TENSOR.ndim"
      ],
      "metadata": {
        "colab": {
          "base_uri": "https://localhost:8080/"
        },
        "id": "7aR00CODIrgV",
        "outputId": "9d64795c-aab9-4cb9-9279-c153636fca3e"
      },
      "execution_count": null,
      "outputs": [
        {
          "output_type": "execute_result",
          "data": {
            "text/plain": [
              "3"
            ]
          },
          "metadata": {},
          "execution_count": 18
        }
      ]
    },
    {
      "cell_type": "code",
      "source": [
        "TENSOR.shape"
      ],
      "metadata": {
        "colab": {
          "base_uri": "https://localhost:8080/"
        },
        "id": "mVMKfXxRIvj9",
        "outputId": "a336a8c3-b8e6-4795-99a2-fe9f413bb0fb"
      },
      "execution_count": null,
      "outputs": [
        {
          "output_type": "execute_result",
          "data": {
            "text/plain": [
              "torch.Size([1, 1, 1])"
            ]
          },
          "metadata": {},
          "execution_count": 19
        }
      ]
    },
    {
      "cell_type": "markdown",
      "source": [
        "**Remark:** Tensors and Matrices variables are in uppercase as for scalars and vectors are lower case. "
      ],
      "metadata": {
        "id": "g7M50ewpI03j"
      }
    },
    {
      "cell_type": "markdown",
      "source": [
        "## Random tensors\n",
        "### Why random tensors?\n",
        " Many neural networks are initialized by a random tensor, then updated throughout the process"
      ],
      "metadata": {
        "id": "7pGjrpGcKKpt"
      }
    },
    {
      "cell_type": "code",
      "source": [
        "# Creation a rand tensor of size (3, 4)\n",
        "rand_tensor = torch.rand(3,4)\n",
        "rand_tensor"
      ],
      "metadata": {
        "colab": {
          "base_uri": "https://localhost:8080/"
        },
        "id": "FUno2PP2KdBO",
        "outputId": "c2026537-927d-44bc-b57a-e3de4d45cfd9"
      },
      "execution_count": null,
      "outputs": [
        {
          "output_type": "execute_result",
          "data": {
            "text/plain": [
              "tensor([[0.2501, 0.4213, 0.3623, 0.6472],\n",
              "        [0.0009, 0.2274, 0.5586, 0.0813],\n",
              "        [0.0742, 0.1952, 0.6939, 0.6048]])"
            ]
          },
          "metadata": {},
          "execution_count": 21
        }
      ]
    },
    {
      "cell_type": "code",
      "source": [
        "# sometimes, we have to deal with images\n",
        "# here is to generate a random image\n",
        "rand_tensor_image_shape = torch.rand(size=(3, 224, 224))  # color_channels (R,G,B), height, width\n",
        "rand_tensor_image_shape"
      ],
      "metadata": {
        "colab": {
          "base_uri": "https://localhost:8080/"
        },
        "id": "FXdorq64Km8I",
        "outputId": "71aacc38-440b-45c7-d898-bec6355e4be3"
      },
      "execution_count": null,
      "outputs": [
        {
          "output_type": "execute_result",
          "data": {
            "text/plain": [
              "tensor([[[0.4403, 0.7950, 0.7798,  ..., 0.1825, 0.8168, 0.2645],\n",
              "         [0.2597, 0.7358, 0.5136,  ..., 0.4352, 0.5525, 0.7705],\n",
              "         [0.2535, 0.3292, 0.9177,  ..., 0.4788, 0.6459, 0.3621],\n",
              "         ...,\n",
              "         [0.4044, 0.9029, 0.5321,  ..., 0.2035, 0.5110, 0.0797],\n",
              "         [0.0861, 0.1604, 0.5727,  ..., 0.8903, 0.2978, 0.7776],\n",
              "         [0.9493, 0.4539, 0.5486,  ..., 0.4111, 0.2850, 0.4534]],\n",
              "\n",
              "        [[0.8725, 0.0279, 0.3331,  ..., 0.4392, 0.1142, 0.9882],\n",
              "         [0.3311, 0.3775, 0.3633,  ..., 0.0598, 0.8371, 0.2277],\n",
              "         [0.2752, 0.3730, 0.8148,  ..., 0.1052, 0.4814, 0.3400],\n",
              "         ...,\n",
              "         [0.2368, 0.7888, 0.2790,  ..., 0.4079, 0.3628, 0.0393],\n",
              "         [0.6532, 0.2960, 0.3810,  ..., 0.9677, 0.0309, 0.8478],\n",
              "         [0.2482, 0.7778, 0.7803,  ..., 0.9832, 0.4347, 0.5290]],\n",
              "\n",
              "        [[0.0234, 0.1972, 0.6300,  ..., 0.4546, 0.6508, 0.5003],\n",
              "         [0.9366, 0.3343, 0.3750,  ..., 0.2875, 0.2597, 0.8751],\n",
              "         [0.7578, 0.8630, 0.1698,  ..., 0.9339, 0.7287, 0.1329],\n",
              "         ...,\n",
              "         [0.3866, 0.4198, 0.6213,  ..., 0.8344, 0.7601, 0.4883],\n",
              "         [0.7984, 0.1545, 0.9494,  ..., 0.8423, 0.3793, 0.5274],\n",
              "         [0.8348, 0.1746, 0.9220,  ..., 0.3214, 0.6789, 0.3488]]])"
            ]
          },
          "metadata": {},
          "execution_count": 24
        }
      ]
    },
    {
      "cell_type": "markdown",
      "source": [
        "##  Zeroes and ones\n",
        "Generally, useful when we are creating masks "
      ],
      "metadata": {
        "id": "Gi6EBjGuONCi"
      }
    },
    {
      "cell_type": "code",
      "source": [
        "# Create a tensor of all zeros\n",
        "zeros = torch.zeros(size=(3, 4))\n",
        "zeros"
      ],
      "metadata": {
        "colab": {
          "base_uri": "https://localhost:8080/"
        },
        "id": "g4SHBNxdPLj7",
        "outputId": "10002ab4-b23f-4461-f318-5b1367af9cf5"
      },
      "execution_count": null,
      "outputs": [
        {
          "output_type": "execute_result",
          "data": {
            "text/plain": [
              "tensor([[0., 0., 0., 0.],\n",
              "        [0., 0., 0., 0.],\n",
              "        [0., 0., 0., 0.]])"
            ]
          },
          "metadata": {},
          "execution_count": 26
        }
      ]
    },
    {
      "cell_type": "code",
      "source": [
        "# Create a tensor of all ones\n",
        "ones = torch.ones(size= (3, 4))\n",
        "ones"
      ],
      "metadata": {
        "colab": {
          "base_uri": "https://localhost:8080/"
        },
        "id": "sWDFokwzPRku",
        "outputId": "a278fd33-f594-4d08-b5a4-e8fce8174e13"
      },
      "execution_count": null,
      "outputs": [
        {
          "output_type": "execute_result",
          "data": {
            "text/plain": [
              "tensor([[1., 1., 1., 1.],\n",
              "        [1., 1., 1., 1.],\n",
              "        [1., 1., 1., 1.]])"
            ]
          },
          "metadata": {},
          "execution_count": 27
        }
      ]
    },
    {
      "cell_type": "code",
      "source": [
        "# dtype -> the type of the data stored in the tensor"
      ],
      "metadata": {
        "id": "ZvxtajUWPbqY"
      },
      "execution_count": null,
      "outputs": []
    },
    {
      "cell_type": "markdown",
      "source": [
        "## Range and tensors-like"
      ],
      "metadata": {
        "id": "2uKmzD0SPmWS"
      }
    },
    {
      "cell_type": "code",
      "source": [
        "# tensor arange\n",
        "one_to_five = torch.arange(start=1, end=6, step=1)\n",
        "one_to_five\n",
        "# end is not included"
      ],
      "metadata": {
        "colab": {
          "base_uri": "https://localhost:8080/"
        },
        "id": "XorsYNgfPpVq",
        "outputId": "d3d1ecf2-f9c0-43bd-f00a-bac4143a3947"
      },
      "execution_count": null,
      "outputs": [
        {
          "output_type": "execute_result",
          "data": {
            "text/plain": [
              "tensor([1, 2, 3, 4, 5])"
            ]
          },
          "metadata": {},
          "execution_count": 35
        }
      ]
    },
    {
      "cell_type": "code",
      "source": [
        "# Creating tensors like\n",
        "five_zeros = torch.zeros_like(one_to_five)\n",
        "five_zeros\n",
        "five_ones = torch.ones_like(one_to_five)\n",
        "five_ones"
      ],
      "metadata": {
        "colab": {
          "base_uri": "https://localhost:8080/"
        },
        "id": "wrCoaRBkP1Zh",
        "outputId": "379bd56f-5dd7-4862-f94f-0722884eb81b"
      },
      "execution_count": null,
      "outputs": [
        {
          "output_type": "execute_result",
          "data": {
            "text/plain": [
              "tensor([1, 1, 1, 1, 1])"
            ]
          },
          "metadata": {},
          "execution_count": 38
        }
      ]
    },
    {
      "cell_type": "markdown",
      "source": [
        "## Tensor datatypes\n",
        "- The default datatype for torch tensors is float32"
      ],
      "metadata": {
        "id": "b5STncEMQFVp"
      }
    },
    {
      "cell_type": "code",
      "source": [
        "# Float 32 tensors\n",
        "# we usually use float 32 or float 16, the 32 and 16 is related to the precision\n",
        "# of the float numbers we are dealing with\n",
        "# if dtype is fixed to None, then by default float32\n",
        "tensor_32 = torch.tensor([1,2,3],\n",
        "                         dtype=torch.float32,\n",
        "                         device=None, # cpu or cuda (gpu)\n",
        "                         requires_grad=False)\n",
        "tensor_32\n",
        "# we can't do numerical calculations between tensors which aren't in the same \n",
        "#device"
      ],
      "metadata": {
        "colab": {
          "base_uri": "https://localhost:8080/"
        },
        "id": "41EgRz9qQe-O",
        "outputId": "02376294-11da-4560-cc50-191dcba366e6"
      },
      "execution_count": null,
      "outputs": [
        {
          "output_type": "execute_result",
          "data": {
            "text/plain": [
              "tensor([1, 2, 3], dtype=torch.int32)"
            ]
          },
          "metadata": {},
          "execution_count": 41
        }
      ]
    },
    {
      "cell_type": "code",
      "source": [
        "# we can convert tensorts from one type to another one\n",
        "float_16_tensor = tensor_32.type(torch.int16)\n",
        "float_16_tensor"
      ],
      "metadata": {
        "colab": {
          "base_uri": "https://localhost:8080/"
        },
        "id": "Ki6IVyM_RHpW",
        "outputId": "e6307d65-d5e4-4a32-bbea-fef113a12948"
      },
      "execution_count": null,
      "outputs": [
        {
          "output_type": "execute_result",
          "data": {
            "text/plain": [
              "tensor([1, 2, 3], dtype=torch.int16)"
            ]
          },
          "metadata": {},
          "execution_count": 46
        }
      ]
    },
    {
      "cell_type": "code",
      "source": [
        "float_16_tensor * tensor_32"
      ],
      "metadata": {
        "colab": {
          "base_uri": "https://localhost:8080/"
        },
        "id": "jOIvj6dtRmBL",
        "outputId": "df3ccfdf-302c-4223-f648-12b18251a42e"
      },
      "execution_count": null,
      "outputs": [
        {
          "output_type": "execute_result",
          "data": {
            "text/plain": [
              "tensor([1, 4, 9], dtype=torch.int32)"
            ]
          },
          "metadata": {},
          "execution_count": 47
        }
      ]
    },
    {
      "cell_type": "code",
      "source": [
        "## we can't let requires_grad = True for int tensors"
      ],
      "metadata": {
        "id": "PP4trUhFRtm5"
      },
      "execution_count": null,
      "outputs": []
    },
    {
      "cell_type": "markdown",
      "source": [
        "### Getting informations from the tensors\n",
        "1. Tensors not right datatype, `tensor.dtype`\n",
        "2. Tensors not right shape, `tensor.shape`\n",
        "3. Tensors not right device, `tensor.device`"
      ],
      "metadata": {
        "id": "ymU6VqkXR0XW"
      }
    },
    {
      "cell_type": "code",
      "source": [
        "# example\n",
        "tensor_ex = torch.rand(size=(3, 4))\n",
        "print(f\" - Datatype: {tensor_ex.dtype} \\n - Shape: {tensor_ex.shape} \\n - Device: {tensor_ex.device}\")"
      ],
      "metadata": {
        "colab": {
          "base_uri": "https://localhost:8080/"
        },
        "id": "fcRYVC1OSpBv",
        "outputId": "9fa6aa8e-e4e1-4e19-e08c-85384f414075"
      },
      "execution_count": null,
      "outputs": [
        {
          "output_type": "stream",
          "name": "stdout",
          "text": [
            " - Datatype: torch.float32 \n",
            " - Shape: torch.Size([3, 4]) \n",
            " - Device: cpu\n"
          ]
        }
      ]
    },
    {
      "cell_type": "markdown",
      "source": [
        "## Manipulating Tensors\n",
        "Tensor operations include:\n",
        "* Addition\n",
        "* Substraction\n",
        "* Multiplication (element-wise)\n",
        "* Division\n",
        "* Matrix Multiplication"
      ],
      "metadata": {
        "id": "-qhkX-ahTFHT"
      }
    },
    {
      "cell_type": "code",
      "source": [
        "# example\n",
        "t1 = torch.tensor([1,2,3])\n",
        "# adding 10\n",
        "t1 + 10"
      ],
      "metadata": {
        "colab": {
          "base_uri": "https://localhost:8080/"
        },
        "id": "bP07CsfbURqO",
        "outputId": "30c51429-9e96-4e3d-b70c-844a74ea3c4b"
      },
      "execution_count": null,
      "outputs": [
        {
          "output_type": "execute_result",
          "data": {
            "text/plain": [
              "tensor([11, 12, 13])"
            ]
          },
          "metadata": {},
          "execution_count": 51
        }
      ]
    },
    {
      "cell_type": "code",
      "source": [
        "# multiplying by 10\n",
        "t1 * 10"
      ],
      "metadata": {
        "colab": {
          "base_uri": "https://localhost:8080/"
        },
        "id": "BfqWt2dgUcrL",
        "outputId": "22519ad0-6a61-4991-cfd5-61c231eca5da"
      },
      "execution_count": null,
      "outputs": [
        {
          "output_type": "execute_result",
          "data": {
            "text/plain": [
              "tensor([10, 20, 30])"
            ]
          },
          "metadata": {},
          "execution_count": 52
        }
      ]
    },
    {
      "cell_type": "code",
      "source": [
        "# substracting 10\n",
        "t1 - 10"
      ],
      "metadata": {
        "colab": {
          "base_uri": "https://localhost:8080/"
        },
        "id": "VuoNvajnUeRP",
        "outputId": "1ef7b7df-d760-4e9c-96db-49878bffa9ae"
      },
      "execution_count": null,
      "outputs": [
        {
          "output_type": "execute_result",
          "data": {
            "text/plain": [
              "tensor([-9, -8, -7])"
            ]
          },
          "metadata": {},
          "execution_count": 53
        }
      ]
    },
    {
      "cell_type": "code",
      "source": [
        "# dividing by 10\n",
        "t1 / 10"
      ],
      "metadata": {
        "colab": {
          "base_uri": "https://localhost:8080/"
        },
        "id": "EvcIpehtUgBw",
        "outputId": "54808843-b3c9-46f6-f0de-b11d53689501"
      },
      "execution_count": null,
      "outputs": [
        {
          "output_type": "execute_result",
          "data": {
            "text/plain": [
              "tensor([0.1000, 0.2000, 0.3000])"
            ]
          },
          "metadata": {},
          "execution_count": 54
        }
      ]
    },
    {
      "cell_type": "code",
      "source": [
        "# to the power of 2\n",
        "t1 ** 2"
      ],
      "metadata": {
        "colab": {
          "base_uri": "https://localhost:8080/"
        },
        "id": "KRcP4d8sUhWy",
        "outputId": "40ea17b3-5880-48eb-fb92-848ca65d2581"
      },
      "execution_count": null,
      "outputs": [
        {
          "output_type": "execute_result",
          "data": {
            "text/plain": [
              "tensor([1, 4, 9])"
            ]
          },
          "metadata": {},
          "execution_count": 55
        }
      ]
    },
    {
      "cell_type": "code",
      "source": [
        "# element-wise multiplication\n",
        "t1 * t1"
      ],
      "metadata": {
        "colab": {
          "base_uri": "https://localhost:8080/"
        },
        "id": "AkHgfI2dUtwU",
        "outputId": "10fe7875-1185-4199-b641-756a5c4510c2"
      },
      "execution_count": null,
      "outputs": [
        {
          "output_type": "execute_result",
          "data": {
            "text/plain": [
              "tensor([1, 4, 9])"
            ]
          },
          "metadata": {},
          "execution_count": 56
        }
      ]
    },
    {
      "cell_type": "markdown",
      "source": [
        "## Matrix Multiplication \"dot product\"\n"
      ],
      "metadata": {
        "id": "mQJBEGOOUzAz"
      }
    },
    {
      "cell_type": "code",
      "source": [
        "# Example\n",
        "# scalar product of two vectors\n",
        "torch.matmul(t1, t1)"
      ],
      "metadata": {
        "colab": {
          "base_uri": "https://localhost:8080/"
        },
        "id": "6XUdADYsU1J6",
        "outputId": "c1d566ec-cb31-4295-c085-6dd2d81e4f2f"
      },
      "execution_count": null,
      "outputs": [
        {
          "output_type": "execute_result",
          "data": {
            "text/plain": [
              "tensor(14)"
            ]
          },
          "metadata": {},
          "execution_count": 60
        }
      ]
    },
    {
      "cell_type": "code",
      "source": [
        "X = torch.tensor([[1, 2], [3, 4]])\n",
        "y = torch.tensor([1,2])\n",
        "# matrix * vector\n",
        "torch.matmul(X, y) \n",
        "# matrix * matrix\n",
        "torch.mm(X, X) # torch.mm is the same as torch.matmul "
      ],
      "metadata": {
        "colab": {
          "base_uri": "https://localhost:8080/"
        },
        "id": "NGQLWBKpYrjK",
        "outputId": "5b154ddc-c391-48eb-e802-8e03151d9d6f"
      },
      "execution_count": null,
      "outputs": [
        {
          "output_type": "execute_result",
          "data": {
            "text/plain": [
              "tensor([[ 7, 10],\n",
              "        [15, 22]])"
            ]
          },
          "metadata": {},
          "execution_count": 62
        }
      ]
    },
    {
      "cell_type": "markdown",
      "source": [
        " One of the major problems when doing multiplications is those related to the shapes,\n",
        " we are handling. There are several methods to correct the shape of our tensors:\n",
        " 1. Transposing\n",
        " 2. Reshaping"
      ],
      "metadata": {
        "id": "kXnzUqV8ZV0q"
      }
    },
    {
      "cell_type": "code",
      "source": [
        "# Transposing a matrix\n",
        "Z = X.mT\n",
        "Z"
      ],
      "metadata": {
        "colab": {
          "base_uri": "https://localhost:8080/"
        },
        "id": "7O33QVmTcxKr",
        "outputId": "c300f909-ffdb-42af-a0e9-fedb613a7921"
      },
      "execution_count": null,
      "outputs": [
        {
          "output_type": "execute_result",
          "data": {
            "text/plain": [
              "tensor([[1, 3],\n",
              "        [2, 4]])"
            ]
          },
          "metadata": {},
          "execution_count": 64
        }
      ]
    },
    {
      "cell_type": "markdown",
      "source": [
        "## Finding the min, max, sum, mean, etc \" Tensor Aggregation\""
      ],
      "metadata": {
        "id": "09IwV_Z-dUBp"
      }
    },
    {
      "cell_type": "code",
      "source": [
        "# create a tensor\n",
        "x = torch.arange(1,10)\n",
        "x"
      ],
      "metadata": {
        "colab": {
          "base_uri": "https://localhost:8080/"
        },
        "id": "jkrFIO4ldaQY",
        "outputId": "cee5415a-8276-484c-b00a-1f8ac3145037"
      },
      "execution_count": null,
      "outputs": [
        {
          "output_type": "execute_result",
          "data": {
            "text/plain": [
              "tensor([1, 2, 3, 4, 5, 6, 7, 8, 9])"
            ]
          },
          "metadata": {},
          "execution_count": 66
        }
      ]
    },
    {
      "cell_type": "code",
      "source": [
        "# find the max\n",
        "x.max()"
      ],
      "metadata": {
        "colab": {
          "base_uri": "https://localhost:8080/"
        },
        "id": "8OA_JpSldfEr",
        "outputId": "93d3e8a0-4059-409e-fac6-b0973389f226"
      },
      "execution_count": null,
      "outputs": [
        {
          "output_type": "execute_result",
          "data": {
            "text/plain": [
              "tensor(9)"
            ]
          },
          "metadata": {},
          "execution_count": 67
        }
      ]
    },
    {
      "cell_type": "code",
      "source": [
        "# find the min\n",
        "x.min()"
      ],
      "metadata": {
        "colab": {
          "base_uri": "https://localhost:8080/"
        },
        "id": "z_xJpBZQdhVW",
        "outputId": "5c06b7c9-8cb4-45ad-aa8d-e7ba4758fd03"
      },
      "execution_count": null,
      "outputs": [
        {
          "output_type": "execute_result",
          "data": {
            "text/plain": [
              "tensor(1)"
            ]
          },
          "metadata": {},
          "execution_count": 68
        }
      ]
    },
    {
      "cell_type": "code",
      "source": [
        "# find the mean \n",
        "# mean function cannot return an integer, we should specify it\n",
        "x.mean(dtype = torch.float32)\n",
        "# another way to do it\n",
        "x.type(torch.float32).mean()\n",
        "# we can also use it torch.mean(x.type(torch.float32))"
      ],
      "metadata": {
        "colab": {
          "base_uri": "https://localhost:8080/"
        },
        "id": "GbTlJC2NdkNX",
        "outputId": "7e6510eb-f4e9-4f23-ac67-4e12798d2d6d"
      },
      "execution_count": null,
      "outputs": [
        {
          "output_type": "execute_result",
          "data": {
            "text/plain": [
              "tensor(5.)"
            ]
          },
          "metadata": {},
          "execution_count": 75
        }
      ]
    },
    {
      "cell_type": "code",
      "source": [
        "x.sum()"
      ],
      "metadata": {
        "colab": {
          "base_uri": "https://localhost:8080/"
        },
        "id": "rFgc4WYgdm1F",
        "outputId": "027e3600-9f0d-4074-8fc9-96bfab9a8734"
      },
      "execution_count": null,
      "outputs": [
        {
          "output_type": "execute_result",
          "data": {
            "text/plain": [
              "tensor(45)"
            ]
          },
          "metadata": {},
          "execution_count": 76
        }
      ]
    },
    {
      "cell_type": "markdown",
      "source": [
        "## Finding the positional min and max"
      ],
      "metadata": {
        "id": "gC2SSb_KeZB3"
      }
    },
    {
      "cell_type": "code",
      "source": [
        "# find the position of the min/max value and returns its index\n",
        "x.argmin()\n",
        "x.argmax()"
      ],
      "metadata": {
        "colab": {
          "base_uri": "https://localhost:8080/"
        },
        "id": "lbo6V4RWev7x",
        "outputId": "bb496927-a871-4dc0-e2a1-e375c19fe781"
      },
      "execution_count": null,
      "outputs": [
        {
          "output_type": "execute_result",
          "data": {
            "text/plain": [
              "tensor(8)"
            ]
          },
          "metadata": {},
          "execution_count": 79
        }
      ]
    },
    {
      "cell_type": "markdown",
      "source": [
        "## Reshaping, stacking, squeezing and unsqueezing tensors\n",
        "* Reshaping - reshapes an input tensor to a defined shape\n",
        "* View - return a view of an input tensor of certain shape but keep the same momory as the origibnal tensor\n",
        "* Stacking - combine multiple tensors on top of each other (vstack), of side by side (vstack)\n",
        "* Squeeze - removes all `1` dimensions from a tensor\n",
        "* Unsqueeze - adds a `1` dimention to a target torch\n",
        "* Permute - returns a view of the input in dimensions permuted in a certain manner"
      ],
      "metadata": {
        "id": "MW456XE1eyCg"
      }
    },
    {
      "cell_type": "code",
      "source": [
        "# Example\n",
        "# creating a tensor\n",
        "x = torch.arange(1,10)\n",
        "x, x.shape"
      ],
      "metadata": {
        "colab": {
          "base_uri": "https://localhost:8080/"
        },
        "id": "tyzW6k1mg-uE",
        "outputId": "77d09975-ff37-4d34-bf51-251170f588c6"
      },
      "execution_count": null,
      "outputs": [
        {
          "output_type": "execute_result",
          "data": {
            "text/plain": [
              "(tensor([1, 2, 3, 4, 5, 6, 7, 8, 9]), torch.Size([9]))"
            ]
          },
          "metadata": {},
          "execution_count": 91
        }
      ]
    },
    {
      "cell_type": "code",
      "source": [
        "# reshape\n",
        "x_reshaped = x.reshape(3, 3) # this should compatible with the dimensions\n",
        "x_reshaped"
      ],
      "metadata": {
        "colab": {
          "base_uri": "https://localhost:8080/"
        },
        "id": "kp5fZ-c8hMGd",
        "outputId": "4a06aa49-fb58-4f28-97e6-191fb6ff0d49"
      },
      "execution_count": null,
      "outputs": [
        {
          "output_type": "execute_result",
          "data": {
            "text/plain": [
              "tensor([[1, 2, 3],\n",
              "        [4, 5, 6],\n",
              "        [7, 8, 9]])"
            ]
          },
          "metadata": {},
          "execution_count": 92
        }
      ]
    },
    {
      "cell_type": "code",
      "source": [
        "# change the view\n",
        "z = x.view(1, 9)\n",
        "z\n",
        "# view works just like reshape however since they share the same memory if we modify one of them, \n",
        "#the other one is modified as wel"
      ],
      "metadata": {
        "colab": {
          "base_uri": "https://localhost:8080/"
        },
        "id": "aTBJtwzChSs5",
        "outputId": "de5025c6-50c9-4f98-ca87-9694bcc8090a"
      },
      "execution_count": null,
      "outputs": [
        {
          "output_type": "execute_result",
          "data": {
            "text/plain": [
              "tensor([[1, 2, 3, 4, 5, 6, 7, 8, 9]])"
            ]
          },
          "metadata": {},
          "execution_count": 95
        }
      ]
    },
    {
      "cell_type": "code",
      "source": [
        "# Stack tensors on top of each others\n",
        "x = torch.arange(1,3)\n",
        "y = torch.vstack((x,x))\n",
        "# another way, y = torch.stack((x,x), dim = 0)\n",
        "y"
      ],
      "metadata": {
        "colab": {
          "base_uri": "https://localhost:8080/"
        },
        "id": "JNPTcEi5hyFL",
        "outputId": "f78e053e-ecd3-4cb1-f149-3b6d51daf1f4"
      },
      "execution_count": null,
      "outputs": [
        {
          "output_type": "execute_result",
          "data": {
            "text/plain": [
              "tensor([[1, 2],\n",
              "        [1, 2]])"
            ]
          },
          "metadata": {},
          "execution_count": 100
        }
      ]
    },
    {
      "cell_type": "code",
      "source": [
        "# Stack side by side (dim = 1)\n",
        "y = torch.hstack((x, x))\n",
        "y"
      ],
      "metadata": {
        "colab": {
          "base_uri": "https://localhost:8080/"
        },
        "id": "kzaHHul3iSqw",
        "outputId": "3cf5c6ba-fd52-47b3-e12f-28dadbf769ee"
      },
      "execution_count": null,
      "outputs": [
        {
          "output_type": "execute_result",
          "data": {
            "text/plain": [
              "tensor([1, 2, 1, 2])"
            ]
          },
          "metadata": {},
          "execution_count": 102
        }
      ]
    },
    {
      "cell_type": "code",
      "source": [
        "# Squeeze & Unsqueeze\n",
        "y = y.unsqueeze(dim = 1)\n",
        "y.squeeze()"
      ],
      "metadata": {
        "colab": {
          "base_uri": "https://localhost:8080/"
        },
        "id": "sau9k-Z3ioQT",
        "outputId": "1cec66bc-ac4d-4aee-e827-87a050704fda"
      },
      "execution_count": null,
      "outputs": [
        {
          "output_type": "execute_result",
          "data": {
            "text/plain": [
              "tensor([1, 2, 1, 2])"
            ]
          },
          "metadata": {},
          "execution_count": 108
        }
      ]
    },
    {
      "cell_type": "code",
      "source": [
        "# permute\n",
        "x = torch.rand(2,3,5)\n",
        "y = torch.permute(x, dims = (2,1,0))\n",
        "# y is only a view of x, so changing one of them will change the other\n",
        "x.shape, y.shape"
      ],
      "metadata": {
        "colab": {
          "base_uri": "https://localhost:8080/"
        },
        "id": "mpH5igV7i1k6",
        "outputId": "c47b71de-fcef-40d7-e2d6-49516c7de7b9"
      },
      "execution_count": null,
      "outputs": [
        {
          "output_type": "execute_result",
          "data": {
            "text/plain": [
              "(torch.Size([2, 3, 5]), torch.Size([5, 3, 2]))"
            ]
          },
          "metadata": {},
          "execution_count": 113
        }
      ]
    },
    {
      "cell_type": "code",
      "source": [
        "x,y"
      ],
      "metadata": {
        "colab": {
          "base_uri": "https://localhost:8080/"
        },
        "id": "Wh73TNH-8dIx",
        "outputId": "5f981a56-99e3-4d83-ddeb-7d979ef18756"
      },
      "execution_count": null,
      "outputs": [
        {
          "output_type": "execute_result",
          "data": {
            "text/plain": [
              "(tensor([[[0.3448, 0.9528, 0.8805, 0.7942, 0.8993],\n",
              "          [0.8234, 0.0051, 0.0115, 0.9791, 0.4570],\n",
              "          [0.8876, 0.5111, 0.2628, 0.7321, 0.1537]],\n",
              " \n",
              "         [[0.0213, 0.1229, 0.3649, 0.5652, 0.1025],\n",
              "          [0.0162, 0.0993, 0.6043, 0.6749, 0.1357],\n",
              "          [0.3781, 0.5556, 0.9130, 0.6208, 0.1848]]]),\n",
              " tensor([[[0.3448, 0.0213],\n",
              "          [0.8234, 0.0162],\n",
              "          [0.8876, 0.3781]],\n",
              " \n",
              "         [[0.9528, 0.1229],\n",
              "          [0.0051, 0.0993],\n",
              "          [0.5111, 0.5556]],\n",
              " \n",
              "         [[0.8805, 0.3649],\n",
              "          [0.0115, 0.6043],\n",
              "          [0.2628, 0.9130]],\n",
              " \n",
              "         [[0.7942, 0.5652],\n",
              "          [0.9791, 0.6749],\n",
              "          [0.7321, 0.6208]],\n",
              " \n",
              "         [[0.8993, 0.1025],\n",
              "          [0.4570, 0.1357],\n",
              "          [0.1537, 0.1848]]]))"
            ]
          },
          "metadata": {},
          "execution_count": 114
        }
      ]
    },
    {
      "cell_type": "code",
      "source": [
        "x[0][0][0] = 1000"
      ],
      "metadata": {
        "id": "-TN-khdp8jG1"
      },
      "execution_count": null,
      "outputs": []
    },
    {
      "cell_type": "code",
      "source": [
        "y"
      ],
      "metadata": {
        "colab": {
          "base_uri": "https://localhost:8080/"
        },
        "id": "Jm_ooysW8o-1",
        "outputId": "a05f6058-606b-4243-8743-d924faf71b6c"
      },
      "execution_count": null,
      "outputs": [
        {
          "output_type": "execute_result",
          "data": {
            "text/plain": [
              "tensor([[[1.0000e+03, 2.1328e-02],\n",
              "         [8.2342e-01, 1.6234e-02],\n",
              "         [8.8760e-01, 3.7812e-01]],\n",
              "\n",
              "        [[9.5275e-01, 1.2294e-01],\n",
              "         [5.1159e-03, 9.9292e-02],\n",
              "         [5.1112e-01, 5.5562e-01]],\n",
              "\n",
              "        [[8.8049e-01, 3.6493e-01],\n",
              "         [1.1511e-02, 6.0430e-01],\n",
              "         [2.6284e-01, 9.1296e-01]],\n",
              "\n",
              "        [[7.9424e-01, 5.6516e-01],\n",
              "         [9.7912e-01, 6.7485e-01],\n",
              "         [7.3214e-01, 6.2085e-01]],\n",
              "\n",
              "        [[8.9928e-01, 1.0251e-01],\n",
              "         [4.5697e-01, 1.3572e-01],\n",
              "         [1.5369e-01, 1.8485e-01]]])"
            ]
          },
          "metadata": {},
          "execution_count": 116
        }
      ]
    },
    {
      "cell_type": "markdown",
      "source": [
        "## Selecting data from tensors \"Indexing\"\n",
        "It is quite similar to indexing in NumPy."
      ],
      "metadata": {
        "id": "zyanOX_38pjN"
      }
    },
    {
      "cell_type": "code",
      "source": [
        "# let's do it\n",
        "x = torch.arange(9).reshape(1,3,3)\n",
        "x"
      ],
      "metadata": {
        "colab": {
          "base_uri": "https://localhost:8080/"
        },
        "id": "AoDDCygF9DJ9",
        "outputId": "387feba5-b7cd-448e-832b-79da4e02743b"
      },
      "execution_count": null,
      "outputs": [
        {
          "output_type": "execute_result",
          "data": {
            "text/plain": [
              "tensor([[[0, 1, 2],\n",
              "         [3, 4, 5],\n",
              "         [6, 7, 8]]])"
            ]
          },
          "metadata": {},
          "execution_count": 118
        }
      ]
    },
    {
      "cell_type": "code",
      "source": [
        "x[0]"
      ],
      "metadata": {
        "colab": {
          "base_uri": "https://localhost:8080/"
        },
        "id": "ndE12w9P9M52",
        "outputId": "621c3b69-65c5-45c0-8b73-df13f8402045"
      },
      "execution_count": null,
      "outputs": [
        {
          "output_type": "execute_result",
          "data": {
            "text/plain": [
              "tensor([[0, 1, 2],\n",
              "        [3, 4, 5],\n",
              "        [6, 7, 8]])"
            ]
          },
          "metadata": {},
          "execution_count": 119
        }
      ]
    },
    {
      "cell_type": "code",
      "source": [
        "x[0,0]"
      ],
      "metadata": {
        "colab": {
          "base_uri": "https://localhost:8080/"
        },
        "id": "nSfGiZKU9UXG",
        "outputId": "6c79351d-d2a1-48f1-de28-8d066f66aaab"
      },
      "execution_count": null,
      "outputs": [
        {
          "output_type": "execute_result",
          "data": {
            "text/plain": [
              "tensor([0, 1, 2])"
            ]
          },
          "metadata": {},
          "execution_count": 120
        }
      ]
    },
    {
      "cell_type": "code",
      "source": [
        "x[0,[0,2],[1]]"
      ],
      "metadata": {
        "colab": {
          "base_uri": "https://localhost:8080/"
        },
        "id": "mD3gj_-x9W2p",
        "outputId": "6a364b99-3829-492b-9648-debd506f9e2c"
      },
      "execution_count": null,
      "outputs": [
        {
          "output_type": "execute_result",
          "data": {
            "text/plain": [
              "tensor([1, 7])"
            ]
          },
          "metadata": {},
          "execution_count": 122
        }
      ]
    },
    {
      "cell_type": "code",
      "source": [
        "x[0,:,2]"
      ],
      "metadata": {
        "colab": {
          "base_uri": "https://localhost:8080/"
        },
        "id": "lwtyN8Hc9gMy",
        "outputId": "45cc473b-346e-4f0f-9df3-4da99cc3b4d8"
      },
      "execution_count": null,
      "outputs": [
        {
          "output_type": "execute_result",
          "data": {
            "text/plain": [
              "tensor([2, 5, 8])"
            ]
          },
          "metadata": {},
          "execution_count": 123
        }
      ]
    },
    {
      "cell_type": "code",
      "source": [
        "x[:,:,1]"
      ],
      "metadata": {
        "colab": {
          "base_uri": "https://localhost:8080/"
        },
        "id": "1p_JFSRT9mon",
        "outputId": "d175db3c-fa4c-4556-dbba-e30dd4358433"
      },
      "execution_count": null,
      "outputs": [
        {
          "output_type": "execute_result",
          "data": {
            "text/plain": [
              "tensor([[1, 4, 7]])"
            ]
          },
          "metadata": {},
          "execution_count": 124
        }
      ]
    },
    {
      "cell_type": "code",
      "source": [
        "x[:,1,1]"
      ],
      "metadata": {
        "colab": {
          "base_uri": "https://localhost:8080/"
        },
        "id": "GfZGeIRL99Uw",
        "outputId": "22094f28-a419-46c0-eb6a-cbbb8e81759c"
      },
      "execution_count": null,
      "outputs": [
        {
          "output_type": "execute_result",
          "data": {
            "text/plain": [
              "tensor([4])"
            ]
          },
          "metadata": {},
          "execution_count": 125
        }
      ]
    },
    {
      "cell_type": "code",
      "source": [
        "x[0,2,2]"
      ],
      "metadata": {
        "colab": {
          "base_uri": "https://localhost:8080/"
        },
        "id": "c3CG-Vhm-QfJ",
        "outputId": "36e688fd-f6cb-4376-b4b9-bd8be88b7a07"
      },
      "execution_count": null,
      "outputs": [
        {
          "output_type": "execute_result",
          "data": {
            "text/plain": [
              "tensor(8)"
            ]
          },
          "metadata": {},
          "execution_count": 126
        }
      ]
    },
    {
      "cell_type": "code",
      "source": [
        "x[0,:,2]"
      ],
      "metadata": {
        "colab": {
          "base_uri": "https://localhost:8080/"
        },
        "id": "k1nkgEZL-i8C",
        "outputId": "f5b8e626-c32d-4323-f96b-2f7d4bd7427f"
      },
      "execution_count": null,
      "outputs": [
        {
          "output_type": "execute_result",
          "data": {
            "text/plain": [
              "tensor([2, 5, 8])"
            ]
          },
          "metadata": {},
          "execution_count": 127
        }
      ]
    },
    {
      "cell_type": "markdown",
      "source": [
        "## Pytorch and NumPy\n",
        "* NumPy -> Torch : `torch.from_numpy()`\n",
        "* Torch -> NumPy: `.numpy()`"
      ],
      "metadata": {
        "id": "CwItUR4m-pfz"
      }
    },
    {
      "cell_type": "code",
      "source": [
        "import numpy as np\n",
        "a = np.linspace(0,10)\n",
        "tensor = torch.from_numpy(a)  # warning: by default numpy dtype is float64\n",
        "tensor"
      ],
      "metadata": {
        "colab": {
          "base_uri": "https://localhost:8080/"
        },
        "id": "C7X0VQLK_AWd",
        "outputId": "43e0484f-6bc1-4e3e-96d7-0def8107c6a0"
      },
      "execution_count": null,
      "outputs": [
        {
          "output_type": "execute_result",
          "data": {
            "text/plain": [
              "tensor([ 0.0000,  0.2041,  0.4082,  0.6122,  0.8163,  1.0204,  1.2245,  1.4286,\n",
              "         1.6327,  1.8367,  2.0408,  2.2449,  2.4490,  2.6531,  2.8571,  3.0612,\n",
              "         3.2653,  3.4694,  3.6735,  3.8776,  4.0816,  4.2857,  4.4898,  4.6939,\n",
              "         4.8980,  5.1020,  5.3061,  5.5102,  5.7143,  5.9184,  6.1224,  6.3265,\n",
              "         6.5306,  6.7347,  6.9388,  7.1429,  7.3469,  7.5510,  7.7551,  7.9592,\n",
              "         8.1633,  8.3673,  8.5714,  8.7755,  8.9796,  9.1837,  9.3878,  9.5918,\n",
              "         9.7959, 10.0000], dtype=torch.float64)"
            ]
          },
          "metadata": {},
          "execution_count": 135
        }
      ]
    },
    {
      "cell_type": "code",
      "source": [
        "num_array = (tensor + 10).numpy()\n",
        "num_array[0] = 78\n",
        "num_array, tensor\n",
        "# they are stocked in two different locations in memory, thus chnaging one of them won't affect the other one"
      ],
      "metadata": {
        "colab": {
          "base_uri": "https://localhost:8080/"
        },
        "id": "LJ3Rzt7Q_lOd",
        "outputId": "5f87f456-b6c0-44d5-f0b4-e74fd22db268"
      },
      "execution_count": null,
      "outputs": [
        {
          "output_type": "execute_result",
          "data": {
            "text/plain": [
              "(array([78.        , 10.20408163, 10.40816327, 10.6122449 , 10.81632653,\n",
              "        11.02040816, 11.2244898 , 11.42857143, 11.63265306, 11.83673469,\n",
              "        12.04081633, 12.24489796, 12.44897959, 12.65306122, 12.85714286,\n",
              "        13.06122449, 13.26530612, 13.46938776, 13.67346939, 13.87755102,\n",
              "        14.08163265, 14.28571429, 14.48979592, 14.69387755, 14.89795918,\n",
              "        15.10204082, 15.30612245, 15.51020408, 15.71428571, 15.91836735,\n",
              "        16.12244898, 16.32653061, 16.53061224, 16.73469388, 16.93877551,\n",
              "        17.14285714, 17.34693878, 17.55102041, 17.75510204, 17.95918367,\n",
              "        18.16326531, 18.36734694, 18.57142857, 18.7755102 , 18.97959184,\n",
              "        19.18367347, 19.3877551 , 19.59183673, 19.79591837, 20.        ]),\n",
              " tensor([ 0.0000,  0.2041,  0.4082,  0.6122,  0.8163,  1.0204,  1.2245,  1.4286,\n",
              "          1.6327,  1.8367,  2.0408,  2.2449,  2.4490,  2.6531,  2.8571,  3.0612,\n",
              "          3.2653,  3.4694,  3.6735,  3.8776,  4.0816,  4.2857,  4.4898,  4.6939,\n",
              "          4.8980,  5.1020,  5.3061,  5.5102,  5.7143,  5.9184,  6.1224,  6.3265,\n",
              "          6.5306,  6.7347,  6.9388,  7.1429,  7.3469,  7.5510,  7.7551,  7.9592,\n",
              "          8.1633,  8.3673,  8.5714,  8.7755,  8.9796,  9.1837,  9.3878,  9.5918,\n",
              "          9.7959, 10.0000], dtype=torch.float64))"
            ]
          },
          "metadata": {},
          "execution_count": 140
        }
      ]
    },
    {
      "cell_type": "markdown",
      "source": [
        "## Reproducibility\n",
        "Briefly, a neural network learn as follows:\n",
        "`start with random numbers -> tensor operations -> updating parameters -> again ...` \n",
        "To reduce the randomness in neural networks and PyTorch, we have to fix the seed."
      ],
      "metadata": {
        "id": "bJGPXrYzACeL"
      }
    },
    {
      "cell_type": "code",
      "source": [
        "# setting random seed\n",
        "RANDOM_SEED = 42\n",
        "torch.manual_seed(RANDOM_SEED)"
      ],
      "metadata": {
        "colab": {
          "base_uri": "https://localhost:8080/"
        },
        "id": "KRSQ3HfdA9Ka",
        "outputId": "9636b724-bbb7-44bb-ca62-b2ff29b495cb"
      },
      "execution_count": null,
      "outputs": [
        {
          "output_type": "execute_result",
          "data": {
            "text/plain": [
              "<torch._C.Generator at 0x7f5cfd7ff930>"
            ]
          },
          "metadata": {},
          "execution_count": 144
        }
      ]
    },
    {
      "cell_type": "code",
      "source": [
        "a = torch.rand(1,2)\n",
        "torch.manual_seed(RANDOM_SEED)\n",
        "b = torch.rand(1, 2)\n",
        "a == b"
      ],
      "metadata": {
        "colab": {
          "base_uri": "https://localhost:8080/"
        },
        "id": "Y5H_CMqZBzod",
        "outputId": "c608353a-b406-477d-b290-dcbf43387803"
      },
      "execution_count": null,
      "outputs": [
        {
          "output_type": "execute_result",
          "data": {
            "text/plain": [
              "tensor([[True, True]])"
            ]
          },
          "metadata": {},
          "execution_count": 145
        }
      ]
    },
    {
      "cell_type": "markdown",
      "source": [
        "## Accessing the GPU"
      ],
      "metadata": {
        "id": "avkxQ1XhB48D"
      }
    },
    {
      "cell_type": "markdown",
      "source": [
        "### 1. Getting a GPU\n",
        " - Using Google Colab\n",
        " - Using your own gpu\n",
        " - Use cloud computing like AWS, Azure, ..."
      ],
      "metadata": {
        "id": "ywByfBiwCcip"
      }
    },
    {
      "cell_type": "markdown",
      "source": [
        "### 2. Checking for GPU acces using Pytorch"
      ],
      "metadata": {
        "id": "kt1unfStDPBG"
      }
    },
    {
      "cell_type": "code",
      "source": [
        "# checking for gpu access\n",
        "torch.cuda.is_available()"
      ],
      "metadata": {
        "colab": {
          "base_uri": "https://localhost:8080/"
        },
        "id": "LqfhZu6eEM9U",
        "outputId": "8ad6805d-74a5-470c-c96b-f8cfae26c29c"
      },
      "execution_count": null,
      "outputs": [
        {
          "output_type": "execute_result",
          "data": {
            "text/plain": [
              "False"
            ]
          },
          "metadata": {},
          "execution_count": 146
        }
      ]
    },
    {
      "cell_type": "code",
      "source": [
        "# setup device agnostic code\n",
        "if torch.cuda.is_available():\n",
        "  device = \"cuda\"\n",
        "else:\n",
        "  device = \"cpu\""
      ],
      "metadata": {
        "id": "UFmYSr0_EX3v"
      },
      "execution_count": null,
      "outputs": []
    },
    {
      "cell_type": "code",
      "source": [
        "device"
      ],
      "metadata": {
        "colab": {
          "base_uri": "https://localhost:8080/",
          "height": 36
        },
        "id": "gecvDnztElmB",
        "outputId": "4cb5b6c0-9bd2-4e2c-9a8f-b97b8a2d97cd"
      },
      "execution_count": null,
      "outputs": [
        {
          "output_type": "execute_result",
          "data": {
            "text/plain": [
              "'cpu'"
            ],
            "application/vnd.google.colaboratory.intrinsic+json": {
              "type": "string"
            }
          },
          "metadata": {},
          "execution_count": 148
        }
      ]
    },
    {
      "cell_type": "markdown",
      "source": [
        "### 3. Best practise\n",
        "\n",
        "Check the link: https://pytorch.org/docs/stable/notes/cuda.html#device-agnostic-code"
      ],
      "metadata": {
        "id": "hCjHG3rlEmMp"
      }
    },
    {
      "cell_type": "code",
      "source": [
        "# converting tensors to device\n",
        "tensor_con = tensor.to(device)"
      ],
      "metadata": {
        "id": "LgESp2-5FE09"
      },
      "execution_count": null,
      "outputs": []
    },
    {
      "cell_type": "code",
      "source": [
        "# if a tensor is in gpu we can't convert it to numpy array\n",
        "num_arr = tensor_con.cpu().numpy()"
      ],
      "metadata": {
        "id": "faLdBwykGbfw"
      },
      "execution_count": null,
      "outputs": []
    },
    {
      "cell_type": "markdown",
      "source": [
        "## Exercices"
      ],
      "metadata": {
        "id": "xmvNFWdOGmrx"
      }
    },
    {
      "cell_type": "code",
      "source": [
        "import torch\n",
        "# seeting seed to 0\n",
        "torch.manual_seed(1234)\n",
        "# creating a random tensor\n",
        "tensor_rand = torch.rand(7,7)\n",
        "# tensors multiplication\n",
        "tensor_2 = torch.rand(1,7)\n",
        "torch.mm(tensor_rand, tensor_2.mT)\n",
        "# when using a gpu\n",
        "torch.cuda.manual_seed(1234)\n",
        "# if we are using several gpus\n",
        "torch.cuda.manual_seed_all(1234)\n",
        "device = 'cuda' if torch.cuda.is_available() else 'cpu'\n",
        "tens1 = torch.rand(2,3).to(device)\n",
        "tens2 = torch.rand(2, 3).to(device)\n",
        "X= torch.mm(tens1, tens2.mT)\n",
        "min, max = X.min(), X.max()\n",
        "argmi, argma = X.argmin(), X.argmax()\n",
        "print(min, max, argmi, argma)\n",
        "new_tens = torch.rand(1, 1, 1, 10)\n",
        "torch.manual_seed(7)\n",
        "squeezed = new_tens.squeeze()\n",
        "print(new_tens,squeezed)\n",
        "print(new_tens.shape, squeezed.shape)"
      ],
      "metadata": {
        "colab": {
          "base_uri": "https://localhost:8080/"
        },
        "id": "aTPij5O0HBn4",
        "outputId": "9eadf492-72c7-4df8-8bcc-51ca865e9055"
      },
      "execution_count": null,
      "outputs": [
        {
          "output_type": "stream",
          "name": "stdout",
          "text": [
            "tensor(0.2573, device='cuda:0') tensor(0.8202, device='cuda:0') tensor(0, device='cuda:0') tensor(3, device='cuda:0')\n",
            "tensor([[[[0.2908, 0.4196, 0.3728, 0.3769, 0.0108, 0.9455, 0.7661, 0.2634,\n",
            "           0.1880, 0.5174]]]]) tensor([0.2908, 0.4196, 0.3728, 0.3769, 0.0108, 0.9455, 0.7661, 0.2634, 0.1880,\n",
            "        0.5174])\n",
            "torch.Size([1, 1, 1, 10]) torch.Size([10])\n"
          ]
        }
      ]
    },
    {
      "cell_type": "markdown",
      "source": [
        "## Extra-curriculum"
      ],
      "metadata": {
        "id": "S2pLAcvAowKc"
      }
    },
    {
      "cell_type": "markdown",
      "source": [
        "https://pytorch.org/tutorials/beginner/basics/tensorqs_tutorial.html"
      ],
      "metadata": {
        "id": "pcbl5kU-rD8A"
      }
    }
  ]
}