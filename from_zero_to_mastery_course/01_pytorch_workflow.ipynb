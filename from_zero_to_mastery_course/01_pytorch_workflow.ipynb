{
  "nbformat": 4,
  "nbformat_minor": 0,
  "metadata": {
    "colab": {
      "provenance": []
    },
    "kernelspec": {
      "name": "python3",
      "display_name": "Python 3"
    },
    "language_info": {
      "name": "python"
    },
    "accelerator": "GPU",
    "gpuClass": "standard"
  },
  "cells": [
    {
      "cell_type": "markdown",
      "source": [
        "# Pytorch Workflow\n",
        "We will explore an end-to-end pytorch workflow\n",
        "Resources:\n",
        "* Notebook: https://github.com/mrdbourke/pytorch-deep-learning/blob/main/01_pytorch_workflow.ipynb\n",
        "* Book version: https://www.learnpytorch.io/01_pytorch_workflow/"
      ],
      "metadata": {
        "id": "H34C7uww1GEe"
      }
    },
    {
      "cell_type": "code",
      "execution_count": null,
      "metadata": {
        "id": "DHZSRT6A0ATJ"
      },
      "outputs": [],
      "source": [
        "# importing modules\n",
        "import numpy as np\n",
        "import pandas as pd\n",
        "import matplotlib.pyplot as plt\n",
        "import torch\n",
        "from torch import nn # nn 'neural network' contains all the building blocks for\n",
        "# neural networks in Pytorch"
      ]
    },
    {
      "cell_type": "markdown",
      "source": [
        "## 1. Data (preparing and loading)\n",
        "Data can be literally anything in machine learning\n",
        "- Excel Spreadsheets\n",
        "- Images\n",
        "- Videos\n",
        "- Audio\n",
        "- DNA\n",
        "- Text   \n",
        "\n",
        "Machine learning is a game of two parts:\n",
        "1. Turn data into numbers\n",
        "2. Build a model, train it and make predictions"
      ],
      "metadata": {
        "id": "TeGfqYVx0obM"
      }
    },
    {
      "cell_type": "code",
      "source": [
        "import torch\n",
        "# we will build some known data using a linear regression\n",
        "# params\n",
        "weight = 0.9\n",
        "bias = 0.3\n",
        "# data\n",
        "start = 0\n",
        "end = 1\n",
        "step = 0.02\n",
        "X = torch.arange(start, end, step).unsqueeze(dim=1)\n",
        "y = weight * X + bias"
      ],
      "metadata": {
        "id": "PPU3kl_A4BQB"
      },
      "execution_count": null,
      "outputs": []
    },
    {
      "cell_type": "markdown",
      "source": [
        "### Splitting data into training and test sets\n",
        "* training set -> Course materials, used to learn patterns\n",
        "* validation set -> Practicals, used to tune the model patterns, not always required\n",
        "* test set -> Exams, to see whether the model is ready for production or no"
      ],
      "metadata": {
        "id": "oiPe5Lx_40GZ"
      }
    },
    {
      "cell_type": "code",
      "source": [
        "import matplotlib.pyplot as plt\n",
        "\n",
        "# create a train/test split\n",
        "train_split = int(0.8 * len(X))\n",
        "X_train, y_train = X[:train_split], y[:train_split]\n",
        "X_test, y_test = X[train_split:], y[train_split:]\n",
        " # building a function to visualize our data\n",
        "def plot_predictions(train_data = X_train,\n",
        "                     train_labels = y_train,\n",
        "                     test_data = X_test,\n",
        "                     test_labels = y_test,\n",
        "                     predictions = None):\n",
        "  plt.figure(figsize=(7, 7))\n",
        "  plt.scatter(train_data, train_labels, c='b', s=4, label = \"Training data\")\n",
        "  plt.scatter(test_data, test_labels, c='r', s=4, label = 'Testing data')\n",
        "  if predictions is not None:\n",
        "    plt.scatter(test_data, predictions, c='g', s=4, label='Predictions')\n",
        "  plt.legend(prop={\"size\":14})\n",
        "  plt.show()\n",
        "plot_predictions()\n"
      ],
      "metadata": {
        "colab": {
          "base_uri": "https://localhost:8080/",
          "height": 428
        },
        "id": "rAHvD6t85qvc",
        "outputId": "b24defcd-b204-4648-9264-14b8b90cc96d"
      },
      "execution_count": null,
      "outputs": [
        {
          "output_type": "display_data",
          "data": {
            "text/plain": [
              "<Figure size 504x504 with 1 Axes>"
            ],
            "image/png": "[encoded data removed]"
          },
          "metadata": {
            "needs_background": "light"
          }
        }
      ]
    },
    {
      "cell_type": "markdown",
      "source": [
        "## 2. Building Model\n",
        "Deep Learning models in Pytorch are classes that inherits from the `nn.Module`, as explained earlier there are two main steps:\n",
        "1. Start with random variables\n",
        "2. Compute, tune, redo    \n",
        " \n",
        "Tuning our parameters is done thanks to two algorithms: [3Blue1Brown]\n",
        "1. Gradient Descent\n",
        "2. Backpropagation\n"
      ],
      "metadata": {
        "id": "f1v9dD-tHiQR"
      }
    },
    {
      "cell_type": "code",
      "source": [
        "import torch\n",
        "from torch import nn\n",
        "# Create a linear regression model\n",
        "class LinearRegressionModel(nn.Module):\n",
        "  def __init__(self):\n",
        "    super().__init__()\n",
        "    # we will start with random parameters, do computations then adjust them\n",
        "    # requires_grad is by default True for parameters\n",
        "    self.weight = nn.Parameter(torch.randn(1,\n",
        "                                           requires_grad=True,\n",
        "                                           dtype=torch.float))\n",
        "    self.bias = nn.Parameter(torch.randn(1,\n",
        "                                         requires_grad=True,\n",
        "                                         dtype=torch.float))\n",
        "  # we create a forward function to do the computations\n",
        "  # any subclass of the nn.Module should override the forward function\n",
        "  def forward(self, x: torch.Tensor) -> torch.Tensor:\n",
        "    return self.weight * x + self.bias\n"
      ],
      "metadata": {
        "id": "FJ8zRlHuIi-n"
      },
      "execution_count": null,
      "outputs": []
    },
    {
      "cell_type": "markdown",
      "source": [
        "### PyTorch model building essentials\n",
        "* torch.nn - contains all of the building blocks for neural networks \"computational graphs\"\n",
        "* torch.nn.Parameter - what parameters should our model try and learn, often a Pytorch layer\n",
        "* torch.nn.Module - base class for all neural networks modules, if we subclass it we shoudl override the forward function\n",
        "* torch.optim - this where we find the optimizers used to tune the parameters \n",
        "* def forward() - all nn.Module subclasses require you to oerwrite it"
      ],
      "metadata": {
        "id": "fMgsQUxULmIP"
      }
    },
    {
      "cell_type": "code",
      "source": [
        "# setting a random seed \n",
        "torch.manual_seed(42) \n",
        "model = LinearRegressionModel()\n",
        "model.weight, model.bias"
      ],
      "metadata": {
        "colab": {
          "base_uri": "https://localhost:8080/"
        },
        "id": "eIDUfVhiMbfv",
        "outputId": "db18e353-cc8e-4534-f582-a5da8122d63c"
      },
      "execution_count": null,
      "outputs": [
        {
          "output_type": "execute_result",
          "data": {
            "text/plain": [
              "(Parameter containing:\n",
              " tensor([0.3367], requires_grad=True), Parameter containing:\n",
              " tensor([0.1288], requires_grad=True))"
            ]
          },
          "metadata": {},
          "execution_count": 99
        }
      ]
    },
    {
      "cell_type": "code",
      "source": [
        "# getting all parameters\n",
        "list(model.parameters())"
      ],
      "metadata": {
        "colab": {
          "base_uri": "https://localhost:8080/"
        },
        "id": "mgvxeJErNQPV",
        "outputId": "00c647ad-8eaa-469a-80fd-5885b65cddcb"
      },
      "execution_count": null,
      "outputs": [
        {
          "output_type": "execute_result",
          "data": {
            "text/plain": [
              "[Parameter containing:\n",
              " tensor([0.3367], requires_grad=True), Parameter containing:\n",
              " tensor([0.1288], requires_grad=True)]"
            ]
          },
          "metadata": {},
          "execution_count": 100
        }
      ]
    },
    {
      "cell_type": "code",
      "source": [
        "# we aslo can state the params with their name\n",
        "model.state_dict()"
      ],
      "metadata": {
        "colab": {
          "base_uri": "https://localhost:8080/"
        },
        "id": "-8e5tPPjNdlv",
        "outputId": "0281d5f5-be3c-436a-9534-5e196b821738"
      },
      "execution_count": null,
      "outputs": [
        {
          "output_type": "execute_result",
          "data": {
            "text/plain": [
              "OrderedDict([('weight', tensor([0.3367])), ('bias', tensor([0.1288]))])"
            ]
          },
          "metadata": {},
          "execution_count": 101
        }
      ]
    },
    {
      "cell_type": "markdown",
      "source": [
        "### Making prediction using  `torch.inference_mode()`\n",
        "We will predict the value of `y_test` based on `X_test`"
      ],
      "metadata": {
        "id": "hFmYS8JqFQIP"
      }
    },
    {
      "cell_type": "code",
      "source": [
        "# Make predictions\n",
        "# we use a context manager in order to turn off the gardients tracking\n",
        "# befor, we used to use no_grad(), but it's deprecated\n",
        "with torch.inference_mode():\n",
        "  y_pred = model(X_test)\n",
        "plot_predictions(predictions=y_pred)"
      ],
      "metadata": {
        "colab": {
          "base_uri": "https://localhost:8080/",
          "height": 428
        },
        "id": "Nn3hBoF8F1WD",
        "outputId": "93d9a1aa-c058-4259-b1e3-ac8099d84a7b"
      },
      "execution_count": null,
      "outputs": [
        {
          "output_type": "display_data",
          "data": {
            "text/plain": [
              "<Figure size 504x504 with 1 Axes>"
            ],
            "image/png": "[encoded data removed]"
          },
          "metadata": {
            "needs_background": "light"
          }
        }
      ]
    },
    {
      "cell_type": "markdown",
      "source": [
        "## 3. Train model\n",
        "That means tuning the parameters to move from a poor representations of the data to\n",
        "a better representation\n",
        "\n",
        "* First  of all we should measure how poor our model is by using a **loss function** also called a **cost function** or **criterion**, then use it to tune the parameters thanks to the **optimizer**. \n",
        "\n",
        "- **Loss function:** Function to measure how wrong your model's predictions are to the ideal outputs\n",
        "- **Optimizer:** Takes into accounts the loss then adjust the parameters, you always have to set the parameters you want to adjust and the learning rate you're going to use"
      ],
      "metadata": {
        "id": "jptz8DEHGLi7"
      }
    },
    {
      "cell_type": "code",
      "source": [
        "# there is two ways to compute the mean absolute error\n",
        "# mae = torch.mean(torch.abs(y_pred - y_test))\n",
        "# mae = torch.nn.l1loss(y_pred, y_test)\n",
        "\n",
        "# setup a loss function\n",
        "loss_fn = nn.L1Loss()\n",
        "# setup an optimizer \"Stochastic Gradient Descent\"\n",
        "optimizer = torch.optim.SGD(params=model.parameters(),\n",
        "                            lr=0.01) #lr = learning rate (hyperparameter, a param we set ourself)"
      ],
      "metadata": {
        "id": "IawOEPH0JSkz"
      },
      "execution_count": null,
      "outputs": []
    },
    {
      "cell_type": "markdown",
      "source": [
        "### Building a training loop (and a testing one) in Pytorch\n",
        "We will need a couple of things for a training loop:\n",
        "1. Loop through the Data\n",
        "2. Forward Pass [Data moving through our model forward], also called \"forward propagation\"\n",
        "3. Calculate the loss \n",
        "4. Optimizer zero grad\n",
        "5. Loss backward to compute the gradients of the params with respect to the loss (**backpropagation**)\n",
        "6. Optimizer step (**gradient descent**)\n",
        "\n",
        "**Remark:** In PyTorch, for every mini-batch during the training phase, we typically want to explicitly set the gradients to zero before starting to do backpropragation (i.e., updating the Weights and biases) because PyTorch accumulates the gradients on subsequent backward passes. "
      ],
      "metadata": {
        "id": "HmksrxeJMDrV"
      }
    },
    {
      "cell_type": "code",
      "source": [
        "# an epoch is one loop through the data\n",
        "epochs = 450 #hyperparameter\n",
        "# tracking values\n",
        "epoch_count = []\n",
        "loss_values = []\n",
        "test_loss_values = []\n",
        "\n",
        "### training\n",
        "eps = [i for i in range(epochs)]\n",
        "# 0. loop through the data\n",
        "for epoch in range(epochs):\n",
        "  # set the model to training mode\n",
        "  model.train() # sets requires_grad() to True for all parameters that require it\n",
        "  # 1. Forward pass\n",
        "  y_preds = model(X_train)\n",
        "\n",
        "  # 2. Loss\n",
        "  loss = loss_fn(y_preds, y_train)\n",
        "  # 3. Optimizer zero_grad\n",
        "  optimizer.zero_grad() # so that the optim\n",
        "\n",
        "  # 4. Back Prop\n",
        "  loss.backward()\n",
        "  \n",
        "  # 5. Gradient Descent\n",
        "  optimizer.step()\n",
        "\n",
        "  ### Testing \n",
        "  model.eval() # turns off gradients tracking and settings not needed for evaluation\n",
        "  # for instance it turns off the dropout layer if used\n",
        "  with torch.inference_mode():\n",
        "    y_pred_test = model(X_test)\n",
        "    loss_test = loss_fn(y_pred_test, y_test)\n",
        "  if epoch % 10 == 0:\n",
        "    epoch_count.append(epoch)\n",
        "    loss_values.append(loss.item())\n",
        "    test_loss_values.append(loss_test.item())\n",
        "    print(f\"Epoch : {epoch} | Train : {loss} | Test : {loss_test}\")"
      ],
      "metadata": {
        "colab": {
          "base_uri": "https://localhost:8080/"
        },
        "id": "wOKj5PBsM0Rp",
        "outputId": "dc259090-9d5f-40d1-dc29-54a67557153d"
      },
      "execution_count": null,
      "outputs": [
        {
          "output_type": "stream",
          "name": "stdout",
          "text": [
            "Epoch : 0 | Train : 0.39088135957717896 | Test : 0.6590651273727417\n",
            "Epoch : 10 | Train : 0.2756713330745697 | Test : 0.5243551731109619\n",
            "Epoch : 20 | Train : 0.16460572183132172 | Test : 0.3926808834075928\n",
            "Epoch : 30 | Train : 0.10852336883544922 | Test : 0.2989806532859802\n",
            "Epoch : 40 | Train : 0.08743593096733093 | Test : 0.24060264229774475\n",
            "Epoch : 50 | Train : 0.07890807092189789 | Test : 0.20496833324432373\n",
            "Epoch : 60 | Train : 0.07424996793270111 | Test : 0.18382300436496735\n",
            "Epoch : 70 | Train : 0.07052046060562134 | Test : 0.17009106278419495\n",
            "Epoch : 80 | Train : 0.06703047454357147 | Test : 0.15907101333141327\n",
            "Epoch : 90 | Train : 0.06354047358036041 | Test : 0.1480509340763092\n",
            "Epoch : 100 | Train : 0.06010167673230171 | Test : 0.13977840542793274\n",
            "Epoch : 110 | Train : 0.05666285753250122 | Test : 0.1315058469772339\n",
            "Epoch : 120 | Train : 0.053229380398988724 | Test : 0.12392017990350723\n",
            "Epoch : 130 | Train : 0.049798037856817245 | Test : 0.11564763635396957\n",
            "Epoch : 140 | Train : 0.046359241008758545 | Test : 0.10737510025501251\n",
            "Epoch : 150 | Train : 0.04292744770646095 | Test : 0.09978944063186646\n",
            "Epoch : 160 | Train : 0.03949442133307457 | Test : 0.0915168970823288\n",
            "Epoch : 170 | Train : 0.036055613309144974 | Test : 0.08324435353279114\n",
            "Epoch : 180 | Train : 0.032625507563352585 | Test : 0.07565870136022568\n",
            "Epoch : 190 | Train : 0.029190804809331894 | Test : 0.06738615036010742\n",
            "Epoch : 200 | Train : 0.02575201913714409 | Test : 0.05980048328638077\n",
            "Epoch : 210 | Train : 0.02232358604669571 | Test : 0.0515279583632946\n",
            "Epoch : 220 | Train : 0.01888718269765377 | Test : 0.04325542598962784\n",
            "Epoch : 230 | Train : 0.015450092032551765 | Test : 0.035669755190610886\n",
            "Epoch : 240 | Train : 0.012021650560200214 | Test : 0.02739720419049263\n",
            "Epoch : 250 | Train : 0.008583569899201393 | Test : 0.01912466250360012\n",
            "Epoch : 260 | Train : 0.005148153752088547 | Test : 0.011539006605744362\n",
            "Epoch : 270 | Train : 0.0017257675062865019 | Test : 0.0025884986389428377\n",
            "Epoch : 280 | Train : 0.00553224328905344 | Test : 0.0049342988058924675\n",
            "Epoch : 290 | Train : 0.00553224328905344 | Test : 0.0049342988058924675\n",
            "Epoch : 300 | Train : 0.00553224328905344 | Test : 0.0049342988058924675\n",
            "Epoch : 310 | Train : 0.00553224328905344 | Test : 0.0049342988058924675\n",
            "Epoch : 320 | Train : 0.00553224328905344 | Test : 0.0049342988058924675\n",
            "Epoch : 330 | Train : 0.00553224328905344 | Test : 0.0049342988058924675\n",
            "Epoch : 340 | Train : 0.00553224328905344 | Test : 0.0049342988058924675\n",
            "Epoch : 350 | Train : 0.00553224328905344 | Test : 0.0049342988058924675\n",
            "Epoch : 360 | Train : 0.00553224328905344 | Test : 0.0049342988058924675\n",
            "Epoch : 370 | Train : 0.00553224328905344 | Test : 0.0049342988058924675\n",
            "Epoch : 380 | Train : 0.00553224328905344 | Test : 0.0049342988058924675\n",
            "Epoch : 390 | Train : 0.00553224328905344 | Test : 0.0049342988058924675\n",
            "Epoch : 400 | Train : 0.00553224328905344 | Test : 0.0049342988058924675\n",
            "Epoch : 410 | Train : 0.00553224328905344 | Test : 0.0049342988058924675\n",
            "Epoch : 420 | Train : 0.00553224328905344 | Test : 0.0049342988058924675\n",
            "Epoch : 430 | Train : 0.00553224328905344 | Test : 0.0049342988058924675\n",
            "Epoch : 440 | Train : 0.00553224328905344 | Test : 0.0049342988058924675\n"
          ]
        }
      ]
    },
    {
      "cell_type": "code",
      "source": [
        "model.state_dict()"
      ],
      "metadata": {
        "colab": {
          "base_uri": "https://localhost:8080/"
        },
        "id": "hP8tYsTrhBMi",
        "outputId": "c7439b3e-6551-4cdb-ba64-d76a937138ee"
      },
      "execution_count": null,
      "outputs": [
        {
          "output_type": "execute_result",
          "data": {
            "text/plain": [
              "OrderedDict([('weight', tensor([0.8940])), ('bias', tensor([0.2968]))])"
            ]
          },
          "metadata": {},
          "execution_count": 105
        }
      ]
    },
    {
      "cell_type": "code",
      "source": [
        "# plotting loss \n",
        "def plot_loss(epoch_count=epoch_count, loss_values=loss_values, test_loss_values=test_loss_values):\n",
        "  plt.figure(figsize=(7, 7))\n",
        "  plt.plot(epoch_count, loss_values, label=\"Training Loss\")\n",
        "  plt.plot(epoch_count, test_loss_values, label=\"Testing Loss\")\n",
        "  plt.xlabel(\"Epoch\")\n",
        "  plt.ylabel(\"Loss\")\n",
        "  plt.title(\"Model Losses\")\n",
        "  plt.legend(loc='best')\n",
        "  plt.show()\n",
        "plot_loss()"
      ],
      "metadata": {
        "colab": {
          "base_uri": "https://localhost:8080/",
          "height": 458
        },
        "id": "3IlFARw3hDhp",
        "outputId": "0269866c-812d-4eac-fbb5-d94a2ff04ad9"
      },
      "execution_count": null,
      "outputs": [
        {
          "output_type": "display_data",
          "data": {
            "text/plain": [
              "<Figure size 504x504 with 1 Axes>"
            ],
            "image/png": "[encoded data removed]"
          },
          "metadata": {
            "needs_background": "light"
          }
        }
      ]
    },
    {
      "cell_type": "code",
      "source": [
        "with torch.inference_mode():\n",
        "  y_pred = model(X_test)\n",
        "plot_predictions(predictions=y_pred)"
      ],
      "metadata": {
        "colab": {
          "base_uri": "https://localhost:8080/",
          "height": 428
        },
        "id": "Jum3iq56hYku",
        "outputId": "b5ffd541-18c8-479e-f7bb-171309a9aed2"
      },
      "execution_count": null,
      "outputs": [
        {
          "output_type": "display_data",
          "data": {
            "text/plain": [
              "<Figure size 504x504 with 1 Axes>"
            ],
            "image/png": "[encoded data removed]"
          },
          "metadata": {
            "needs_background": "light"
          }
        }
      ]
    },
    {
      "cell_type": "markdown",
      "source": [
        "## Saving and loading the model\n",
        "   There are three main methods you should know about saving and loading models in PyTorch:\n",
        "1. `torch.save` - allows you to save a PyTorch object in Python's pickle format\n",
        "2. `torch.load()` - allows you to save a PyTorch object\n",
        "3. `torch.nn.Module.load_state_dict()` - allows to load a model's saved state dictionary\n",
        "**Remarks:**   \n",
        "\n",
        "- It is recommanded to save the state dictionnary of the model instead of saving the whole model because it contains all the necessary information.\n",
        "- https://pytorch.org/tutorials/beginner/saving_loading_models.html\n",
        "- As a convention, we save PyTorch related objects with the extension .pt or .pth\n",
        "- Notice that the load_state_dict() function takes a dictionary object, NOT a path to a saved object.\n",
        "- The disadvantage of this approach is that the serialized data is bound to the specific classes and the exact directory structure used when the model is saved. The reason for this is because pickle does not save the model class itself. Rather, it saves a path to the file containing the class, which is used during load time. Because of this, your code can break in various ways when used in other projects or after refactors.\n",
        "- You can also save several models in one file using a dictionary.\n",
        "\n"
      ],
      "metadata": {
        "id": "6LpTkvI8irxy"
      }
    },
    {
      "cell_type": "code",
      "source": [
        "# saving the model state dict\n",
        "from pathlib import Path # python's module to deal with paths\n",
        "\n",
        "# 1. Create models directory\n",
        "MODEL_PATH = Path(\"models\")\n",
        "MODEL_PATH.mkdir(parents=True, exist_ok=True)\n",
        "\n",
        "# 2. Create model save path\n",
        "MODEL_NAME = \"our_model.pth\"\n",
        "MODEL_SAVE_PATH = MODEL_PATH / MODEL_NAME\n",
        "\n",
        "# 3. Saving the state_dict\n",
        "\n",
        "torch.save(obj=model.state_dict(), f=MODEL_SAVE_PATH)\n",
        "# loading the model\n",
        "# we should create a new instance of our LinearRegression model class \n",
        "model2 = LinearRegressionModel()\n",
        "model2.load_state_dict(torch.load(MODEL_SAVE_PATH))\n",
        "# Make some predictions\n",
        "model2.eval()\n",
        "with torch.inference_mode():\n",
        "  y_predss = model2(X_test)\n",
        "plot_predictions(predictions=y_predss)\n"
      ],
      "metadata": {
        "colab": {
          "base_uri": "https://localhost:8080/",
          "height": 428
        },
        "id": "TB452268sbqB",
        "outputId": "f41d3979-bf05-47ed-9e90-99314732c0b8"
      },
      "execution_count": null,
      "outputs": [
        {
          "output_type": "display_data",
          "data": {
            "text/plain": [
              "<Figure size 504x504 with 1 Axes>"
            ],
            "image/png": "[encoded data removed]"
          },
          "metadata": {
            "needs_background": "light"
          }
        }
      ]
    },
    {
      "cell_type": "markdown",
      "source": [
        "## Putting everything altogether"
      ],
      "metadata": {
        "id": "1JsynsgH4Pwl"
      }
    },
    {
      "cell_type": "code",
      "source": [
        "import torch\n",
        "from torch import nn\n",
        "\n",
        "\n",
        "# setup device agnostic code\n",
        "device = 'cuda' if torch.cuda.is_available() else 'cpu'\n",
        "class LinearRegressionModelAdjusted(nn.Module):\n",
        "  def __init__(self, device):\n",
        "    super().__init__()\n",
        "    self.weight = nn.Parameter(torch.randn(1,\n",
        "                              requires_grad=True,\n",
        "                              dtype=torch.float,\n",
        "                              device=device))\n",
        "    self.bias = nn.Parameter(torch.randn(1,\n",
        "                            requires_grad=True,\n",
        "                            dtype=torch.float,\n",
        "                            device=device))\n",
        "    \n",
        "  def forward(self, x: torch.tensor) -> torch.tensor:\n",
        "      return self.weight * x + self.bias\n",
        "\n",
        "  def train_loop(self, df_train, df_test, epochs = 400, verbose = True):\n",
        "      X_train, y_train = df_train\n",
        "      X_test, y_test = df_test\n",
        "      epoch_count = []\n",
        "      train_loss = []\n",
        "      test_losses = []\n",
        "      loss_fn = nn.L1Loss()\n",
        "      optimizer = torch.optim.SGD(params=self.parameters(), lr=0.01)\n",
        "      for epoch in range(epochs):\n",
        "        self.train()\n",
        "        y_pred = self.forward(X_train)\n",
        "        loss = loss_fn(y_pred, y_train)\n",
        "        optimizer.zero_grad()\n",
        "        loss.backward()\n",
        "        optimizer.step()\n",
        "        self.eval()\n",
        "        with torch.inference_mode():\n",
        "          y_test_pred = self.forward(X_test)\n",
        "          test_loss = loss_fn(y_test_pred, y_test)\n",
        "\n",
        "        if epoch%10 == 0:\n",
        "          epoch_count.append(epoch)\n",
        "          train_loss.append(loss.item())\n",
        "          test_losses.append(test_loss.item())\n",
        "          if verbose:\n",
        "            print(f\"Epoch : {epoch} | Train Loss : {loss} | Test Loss : {test_loss}\")\n",
        "      return epoch_count, train_loss, test_loss\n",
        "          \n",
        "\n",
        "\n",
        "        \n",
        "\n",
        "    "
      ],
      "metadata": {
        "id": "Uuedhv3X6W6e"
      },
      "execution_count": null,
      "outputs": []
    },
    {
      "cell_type": "code",
      "source": [
        "torch.manual_seed(42)\n",
        "model_test = LinearRegressionModelAdjusted(device)"
      ],
      "metadata": {
        "id": "5SUh0T2R-7NT"
      },
      "execution_count": null,
      "outputs": []
    },
    {
      "cell_type": "code",
      "source": [
        "train_d = X_train, y_train\n",
        "test_d = X_test, y_test\n",
        "model_test.train_loop(train_d, test_d)"
      ],
      "metadata": {
        "colab": {
          "base_uri": "https://localhost:8080/"
        },
        "id": "OqPiRvJU-_yZ",
        "outputId": "21a97ffb-435c-4ad5-ea24-6e38265237f0"
      },
      "execution_count": null,
      "outputs": [
        {
          "output_type": "stream",
          "name": "stdout",
          "text": [
            "Epoch : 0 | Train Loss : 0.39088135957717896 | Test Loss : 0.6590651273727417\n",
            "Epoch : 10 | Train Loss : 0.2756713330745697 | Test Loss : 0.5243551731109619\n",
            "Epoch : 20 | Train Loss : 0.16460572183132172 | Test Loss : 0.3926808834075928\n",
            "Epoch : 30 | Train Loss : 0.10852336883544922 | Test Loss : 0.2989806532859802\n",
            "Epoch : 40 | Train Loss : 0.08743593096733093 | Test Loss : 0.24060264229774475\n",
            "Epoch : 50 | Train Loss : 0.07890807092189789 | Test Loss : 0.20496833324432373\n",
            "Epoch : 60 | Train Loss : 0.07424996793270111 | Test Loss : 0.18382300436496735\n",
            "Epoch : 70 | Train Loss : 0.07052046060562134 | Test Loss : 0.17009106278419495\n",
            "Epoch : 80 | Train Loss : 0.06703047454357147 | Test Loss : 0.15907101333141327\n",
            "Epoch : 90 | Train Loss : 0.06354047358036041 | Test Loss : 0.1480509340763092\n",
            "Epoch : 100 | Train Loss : 0.06010167673230171 | Test Loss : 0.13977840542793274\n",
            "Epoch : 110 | Train Loss : 0.05666285753250122 | Test Loss : 0.1315058469772339\n",
            "Epoch : 120 | Train Loss : 0.053229380398988724 | Test Loss : 0.12392017990350723\n",
            "Epoch : 130 | Train Loss : 0.049798037856817245 | Test Loss : 0.11564763635396957\n",
            "Epoch : 140 | Train Loss : 0.046359241008758545 | Test Loss : 0.10737510025501251\n",
            "Epoch : 150 | Train Loss : 0.04292744770646095 | Test Loss : 0.09978944063186646\n",
            "Epoch : 160 | Train Loss : 0.03949442133307457 | Test Loss : 0.0915168970823288\n",
            "Epoch : 170 | Train Loss : 0.036055613309144974 | Test Loss : 0.08324435353279114\n",
            "Epoch : 180 | Train Loss : 0.032625507563352585 | Test Loss : 0.07565870136022568\n",
            "Epoch : 190 | Train Loss : 0.029190804809331894 | Test Loss : 0.06738615036010742\n",
            "Epoch : 200 | Train Loss : 0.02575201913714409 | Test Loss : 0.05980048328638077\n",
            "Epoch : 210 | Train Loss : 0.02232358604669571 | Test Loss : 0.0515279583632946\n",
            "Epoch : 220 | Train Loss : 0.01888718269765377 | Test Loss : 0.04325542598962784\n",
            "Epoch : 230 | Train Loss : 0.015450092032551765 | Test Loss : 0.035669755190610886\n",
            "Epoch : 240 | Train Loss : 0.012021650560200214 | Test Loss : 0.02739720419049263\n",
            "Epoch : 250 | Train Loss : 0.008583569899201393 | Test Loss : 0.01912466250360012\n",
            "Epoch : 260 | Train Loss : 0.005148153752088547 | Test Loss : 0.011539006605744362\n",
            "Epoch : 270 | Train Loss : 0.0017257675062865019 | Test Loss : 0.0025884986389428377\n",
            "Epoch : 280 | Train Loss : 0.00553224328905344 | Test Loss : 0.0049342988058924675\n",
            "Epoch : 290 | Train Loss : 0.00553224328905344 | Test Loss : 0.0049342988058924675\n",
            "Epoch : 300 | Train Loss : 0.00553224328905344 | Test Loss : 0.0049342988058924675\n",
            "Epoch : 310 | Train Loss : 0.00553224328905344 | Test Loss : 0.0049342988058924675\n",
            "Epoch : 320 | Train Loss : 0.00553224328905344 | Test Loss : 0.0049342988058924675\n",
            "Epoch : 330 | Train Loss : 0.00553224328905344 | Test Loss : 0.0049342988058924675\n",
            "Epoch : 340 | Train Loss : 0.00553224328905344 | Test Loss : 0.0049342988058924675\n",
            "Epoch : 350 | Train Loss : 0.00553224328905344 | Test Loss : 0.0049342988058924675\n",
            "Epoch : 360 | Train Loss : 0.00553224328905344 | Test Loss : 0.0049342988058924675\n",
            "Epoch : 370 | Train Loss : 0.00553224328905344 | Test Loss : 0.0049342988058924675\n",
            "Epoch : 380 | Train Loss : 0.00553224328905344 | Test Loss : 0.0049342988058924675\n",
            "Epoch : 390 | Train Loss : 0.00553224328905344 | Test Loss : 0.0049342988058924675\n"
          ]
        },
        {
          "output_type": "execute_result",
          "data": {
            "text/plain": [
              "([0,\n",
              "  10,\n",
              "  20,\n",
              "  30,\n",
              "  40,\n",
              "  50,\n",
              "  60,\n",
              "  70,\n",
              "  80,\n",
              "  90,\n",
              "  100,\n",
              "  110,\n",
              "  120,\n",
              "  130,\n",
              "  140,\n",
              "  150,\n",
              "  160,\n",
              "  170,\n",
              "  180,\n",
              "  190,\n",
              "  200,\n",
              "  210,\n",
              "  220,\n",
              "  230,\n",
              "  240,\n",
              "  250,\n",
              "  260,\n",
              "  270,\n",
              "  280,\n",
              "  290,\n",
              "  300,\n",
              "  310,\n",
              "  320,\n",
              "  330,\n",
              "  340,\n",
              "  350,\n",
              "  360,\n",
              "  370,\n",
              "  380,\n",
              "  390],\n",
              " [0.39088135957717896,\n",
              "  0.2756713330745697,\n",
              "  0.16460572183132172,\n",
              "  0.10852336883544922,\n",
              "  0.08743593096733093,\n",
              "  0.07890807092189789,\n",
              "  0.07424996793270111,\n",
              "  0.07052046060562134,\n",
              "  0.06703047454357147,\n",
              "  0.06354047358036041,\n",
              "  0.06010167673230171,\n",
              "  0.05666285753250122,\n",
              "  0.053229380398988724,\n",
              "  0.049798037856817245,\n",
              "  0.046359241008758545,\n",
              "  0.04292744770646095,\n",
              "  0.03949442133307457,\n",
              "  0.036055613309144974,\n",
              "  0.032625507563352585,\n",
              "  0.029190804809331894,\n",
              "  0.02575201913714409,\n",
              "  0.02232358604669571,\n",
              "  0.01888718269765377,\n",
              "  0.015450092032551765,\n",
              "  0.012021650560200214,\n",
              "  0.008583569899201393,\n",
              "  0.005148153752088547,\n",
              "  0.0017257675062865019,\n",
              "  0.00553224328905344,\n",
              "  0.00553224328905344,\n",
              "  0.00553224328905344,\n",
              "  0.00553224328905344,\n",
              "  0.00553224328905344,\n",
              "  0.00553224328905344,\n",
              "  0.00553224328905344,\n",
              "  0.00553224328905344,\n",
              "  0.00553224328905344,\n",
              "  0.00553224328905344,\n",
              "  0.00553224328905344,\n",
              "  0.00553224328905344],\n",
              " tensor(0.0085))"
            ]
          },
          "metadata": {},
          "execution_count": 19
        }
      ]
    },
    {
      "cell_type": "code",
      "source": [
        "plot_predictions(predictions=torch.tensor(model_test(X_test)).numpy())"
      ],
      "metadata": {
        "colab": {
          "base_uri": "https://localhost:8080/",
          "height": 483
        },
        "id": "tO6eIhYl_J-Z",
        "outputId": "14678c04-f010-486f-df09-8b467fd2ee38"
      },
      "execution_count": null,
      "outputs": [
        {
          "output_type": "stream",
          "name": "stderr",
          "text": [
            "<ipython-input-22-6b67057c9643>:1: UserWarning: To copy construct from a tensor, it is recommended to use sourceTensor.clone().detach() or sourceTensor.clone().detach().requires_grad_(True), rather than torch.tensor(sourceTensor).\n",
            "  plot_predictions(predictions=torch.tensor(model_test(X_test)).numpy())\n"
          ]
        },
        {
          "output_type": "display_data",
          "data": {
            "text/plain": [
              "<Figure size 504x504 with 1 Axes>"
            ],
            "image/png": "[encoded data removed]"
          },
          "metadata": {
            "needs_background": "light"
          }
        }
      ]
    },
    {
      "cell_type": "markdown",
      "source": [
        "## Exercices"
      ],
      "metadata": {
        "id": "2wr9uEtJDoro"
      }
    },
    {
      "cell_type": "code",
      "source": [
        "# importing module\n",
        "import numpy as np\n",
        "import pandas as pd\n",
        "import matplotlib.pyplot as plt\n",
        "import torch\n",
        "from torch import nn"
      ],
      "metadata": {
        "id": "_bkiWFCZJ8Y6"
      },
      "execution_count": null,
      "outputs": []
    },
    {
      "cell_type": "code",
      "source": [
        "# generating dump data\n",
        "# params\n",
        "weight = 5\n",
        "bias = 2\n",
        "# data\n",
        "start = 0\n",
        "end = 10\n",
        "step = 0.5\n",
        "X = torch.arange(start, end, step).unsqueeze(dim=1)\n",
        "y = weight * X + bias"
      ],
      "metadata": {
        "id": "DzycSp7sKFxx"
      },
      "execution_count": null,
      "outputs": []
    },
    {
      "cell_type": "code",
      "source": [
        "# splitting data\n",
        "train_set = int(0.8 * len(X))\n",
        "X_train, y_train = X[:train_set], y[:train_set]\n",
        "X_test, y_test = X[train_set:], y[train_set:]\n",
        "# plotting data\n",
        "def plot_predictions(X_train=X_train,\n",
        "                     y_train=y_train,\n",
        "                     X_test=X_test,\n",
        "                     y_test=y_test,\n",
        "                     predictions=None):\n",
        "  plt.figure(figsize=(7,7))\n",
        "  plt.scatter(X_train, y_train, c='b', s=4, label=\"Training data\")\n",
        "  plt.scatter(X_test, y_test, c='r', s=4, label=\"Testing data\")\n",
        "  if predictions is not None:\n",
        "      plt.scatter(X_test, predictions, c='g', s=4, label=\"Predictions\")\n",
        "  plt.legend(loc='best')\n",
        "  plt.xlabel('y')\n",
        "  plt.ylabel('X')\n",
        "  plt.title(\"Plotting data\")\n",
        "  plt.show()\n",
        "plot_predictions()"
      ],
      "metadata": {
        "colab": {
          "base_uri": "https://localhost:8080/",
          "height": 458
        },
        "id": "FbHI64V3KZ1m",
        "outputId": "2244fd80-577b-4fc5-c40d-8d8c3fa384bd"
      },
      "execution_count": null,
      "outputs": [
        {
          "output_type": "display_data",
          "data": {
            "text/plain": [
              "<Figure size 504x504 with 1 Axes>"
            ],
            "image/png": "[encoded data removed]"
          },
          "metadata": {
            "needs_background": "light"
          }
        }
      ]
    },
    {
      "cell_type": "code",
      "source": [
        "# Agnostic device code\n",
        "device = 'cuda' if torch.cuda.is_available() else 'cpu'\n",
        "# creating our regression model\n",
        "class LinearRegressionModelV3(nn.Module):\n",
        "  def __init__(self, device):\n",
        "    super().__init__()\n",
        "    # in_features == number of features \n",
        "    # out_features == dimension of our output\n",
        "    self.linear_layer = nn.Linear(in_features=1,\n",
        "                                  out_features=1,\n",
        "                                  device= device)\n",
        "    \n",
        "  def forward(self, x: torch.tensor) -> torch.tensor:\n",
        "    return self.linear_layer(x)\n",
        "\n",
        "  def train_loop(self, training_data,\n",
        "                 testing_data,\n",
        "                 lr=0.01,\n",
        "                 epochs=400,\n",
        "                 verbose=True\n",
        "                 ):\n",
        "    # data\n",
        "    X_train, y_train = training_data\n",
        "    X_test, y_test = testing_data\n",
        "\n",
        "    # to device\n",
        "    X_train = X_train.to(device)\n",
        "    X_test = X_test.to(device)\n",
        "    y_train = y_train.to(device)\n",
        "    y_test = y_test.to(device)\n",
        "\n",
        "    # loss and optimizer\n",
        "    loss_fn = nn.L1Loss()\n",
        "    optimizer = torch.optim.SGD(params=self.parameters(),\n",
        "                                lr = lr)\n",
        "    \n",
        "    # tracking\n",
        "    epoch_count = []\n",
        "    train_losses = []\n",
        "    test_losses = []\n",
        "\n",
        "    # let's loop\n",
        "    for epoch in range(epochs):\n",
        "\n",
        "      # train\n",
        "      self.train()\n",
        "      y_pred = self.forward(X_train)\n",
        "      train_loss = loss_fn(y_pred, y_train)\n",
        "      optimizer.zero_grad()\n",
        "      train_loss.backward()\n",
        "      optimizer.step()\n",
        "\n",
        "      # test\n",
        "      self.eval()\n",
        "      with torch.inference_mode():\n",
        "        y_test_pred = self.forward(X_test)\n",
        "        test_loss = loss_fn(y_test_pred, y_test)\n",
        "      \n",
        "      # track\n",
        "      if epoch%10 == 0:\n",
        "        epoch_count.append(epoch)\n",
        "        train_losses.append(train_loss.cpu().item())\n",
        "        test_losses.append(test_loss.cpu().item())\n",
        "        if verbose:\n",
        "          print(f\"Epoch: {epoch} /  {epochs} | Train Loss = {train_loss} | Test Loss : {test_loss}\")        \n",
        "    return y_test_pred, epoch_count, train_losses, test_losses\n",
        "\n",
        "  def save_model(self, model_path):\n",
        "      torch.save(self.state_dict(), model_path)\n",
        "    \n",
        "  def load_model(self, model_path):\n",
        "      self.load_state_dict(torch.load(model_path))"
      ],
      "metadata": {
        "id": "SCH2zaOkLmqh"
      },
      "execution_count": null,
      "outputs": []
    },
    {
      "cell_type": "code",
      "source": [
        "# Let's run it\n",
        "model_v2 = LinearRegressionModelV3(device)"
      ],
      "metadata": {
        "id": "a4PAH49ZPNNK"
      },
      "execution_count": null,
      "outputs": []
    },
    {
      "cell_type": "code",
      "source": [
        "# train\n",
        "training_data = (X_train, y_train) \n",
        "testing_data = (X_test, y_test)\n",
        "predictions, epoch_count, train_losses, test_losses = model_v2.train_loop(training_data, testing_data)"
      ],
      "metadata": {
        "colab": {
          "base_uri": "https://localhost:8080/"
        },
        "id": "IQXbCuH3P3O9",
        "outputId": "6def49b6-51bc-4206-804d-2257f3b05323"
      },
      "execution_count": null,
      "outputs": [
        {
          "output_type": "stream",
          "name": "stdout",
          "text": [
            "Epoch: 0 /  400 | Train Loss = 17.070934295654297 | Test Loss : 37.411373138427734\n",
            "Epoch: 10 /  400 | Train Loss = 15.564684867858887 | Test Loss : 34.03011703491211\n",
            "Epoch: 20 /  400 | Train Loss = 14.058433532714844 | Test Loss : 30.648868560791016\n",
            "Epoch: 30 /  400 | Train Loss = 12.5521821975708 | Test Loss : 27.267616271972656\n",
            "Epoch: 40 /  400 | Train Loss = 11.04593563079834 | Test Loss : 23.88637351989746\n",
            "Epoch: 50 /  400 | Train Loss = 9.539690017700195 | Test Loss : 20.5051326751709\n",
            "Epoch: 60 /  400 | Train Loss = 8.033443450927734 | Test Loss : 17.123889923095703\n",
            "Epoch: 70 /  400 | Train Loss = 6.527196884155273 | Test Loss : 13.74264907836914\n",
            "Epoch: 80 /  400 | Train Loss = 5.020950794219971 | Test Loss : 10.361408233642578\n",
            "Epoch: 90 /  400 | Train Loss = 3.5147037506103516 | Test Loss : 6.98016357421875\n",
            "Epoch: 100 /  400 | Train Loss = 2.0084571838378906 | Test Loss : 3.598921775817871\n",
            "Epoch: 110 /  400 | Train Loss = 0.5022110939025879 | Test Loss : 0.2176809310913086\n",
            "Epoch: 120 /  400 | Train Loss = 0.17576509714126587 | Test Loss : 0.2315225601196289\n",
            "Epoch: 130 /  400 | Train Loss = 0.15791940689086914 | Test Loss : 0.2411947250366211\n",
            "Epoch: 140 /  400 | Train Loss = 0.13986557722091675 | Test Loss : 0.18946075439453125\n",
            "Epoch: 150 /  400 | Train Loss = 0.12143666297197342 | Test Loss : 0.19913196563720703\n",
            "Epoch: 160 /  400 | Train Loss = 0.1039661392569542 | Test Loss : 0.1473979949951172\n",
            "Epoch: 170 /  400 | Train Loss = 0.0851769670844078 | Test Loss : 0.09566211700439453\n",
            "Epoch: 180 /  400 | Train Loss = 0.07616283744573593 | Test Loss : 0.28830909729003906\n",
            "Epoch: 190 /  400 | Train Loss = 0.05552028864622116 | Test Loss : 0.1584644317626953\n",
            "Epoch: 200 /  400 | Train Loss = 0.0691320151090622 | Test Loss : 0.3028383255004883\n",
            "Epoch: 210 /  400 | Train Loss = 0.03710281103849411 | Test Loss : 0.34423828125\n",
            "Epoch: 220 /  400 | Train Loss = 0.04522857069969177 | Test Loss : 0.2986125946044922\n",
            "Epoch: 230 /  400 | Train Loss = 0.016145698726177216 | Test Loss : 0.11721038818359375\n",
            "Epoch: 240 /  400 | Train Loss = 0.07288261502981186 | Test Loss : 0.19908714294433594\n",
            "Epoch: 250 /  400 | Train Loss = 0.06303828954696655 | Test Loss : 0.21205711364746094\n",
            "Epoch: 260 /  400 | Train Loss = 0.056788280606269836 | Test Loss : 0.2183084487915039\n",
            "Epoch: 270 /  400 | Train Loss = 0.056788280606269836 | Test Loss : 0.2183084487915039\n",
            "Epoch: 280 /  400 | Train Loss = 0.056788280606269836 | Test Loss : 0.2183084487915039\n",
            "Epoch: 290 /  400 | Train Loss = 0.056788280606269836 | Test Loss : 0.2183084487915039\n",
            "Epoch: 300 /  400 | Train Loss = 0.056788280606269836 | Test Loss : 0.2183084487915039\n",
            "Epoch: 310 /  400 | Train Loss = 0.056788280606269836 | Test Loss : 0.2183084487915039\n",
            "Epoch: 320 /  400 | Train Loss = 0.056788280606269836 | Test Loss : 0.2183084487915039\n",
            "Epoch: 330 /  400 | Train Loss = 0.056788280606269836 | Test Loss : 0.2183084487915039\n",
            "Epoch: 340 /  400 | Train Loss = 0.056788280606269836 | Test Loss : 0.2183084487915039\n",
            "Epoch: 350 /  400 | Train Loss = 0.056788280606269836 | Test Loss : 0.2183084487915039\n",
            "Epoch: 360 /  400 | Train Loss = 0.056788280606269836 | Test Loss : 0.2183084487915039\n",
            "Epoch: 370 /  400 | Train Loss = 0.056788280606269836 | Test Loss : 0.2183084487915039\n",
            "Epoch: 380 /  400 | Train Loss = 0.056788280606269836 | Test Loss : 0.2183084487915039\n",
            "Epoch: 390 /  400 | Train Loss = 0.056788280606269836 | Test Loss : 0.2183084487915039\n"
          ]
        }
      ]
    },
    {
      "cell_type": "code",
      "source": [
        "plot_predictions(predictions=predictions.cpu())"
      ],
      "metadata": {
        "colab": {
          "base_uri": "https://localhost:8080/",
          "height": 458
        },
        "id": "eqZrNRPyQNbd",
        "outputId": "a4807c92-17c2-4a1c-d358-0a8fbde37411"
      },
      "execution_count": null,
      "outputs": [
        {
          "output_type": "display_data",
          "data": {
            "text/plain": [
              "<Figure size 504x504 with 1 Axes>"
            ],
            "image/png": "[encoded data removed]"
          },
          "metadata": {
            "needs_background": "light"
          }
        }
      ]
    },
    {
      "cell_type": "code",
      "source": [
        "# plotting the errors\n",
        "def plot_loss(epoch_count=epoch_count,\n",
        "              train_losses=train_losses,\n",
        "              test_losses=test_losses):\n",
        "  plt.figure(figsize=(7,7))\n",
        "  plt.plot(epoch_count, train_losses, label=\"Training Loss\")\n",
        "  plt.plot(epoch_count, test_losses, label=\"Test Loss\")\n",
        "  plt.ylabel(\"Loss\")\n",
        "  plt.xlabel(\"Epochs\")\n",
        "  plt.title(\"Training and Testing Loss\")\n",
        "  plt.legend(loc='best')\n",
        "  plt.show()\n",
        "plot_loss()"
      ],
      "metadata": {
        "colab": {
          "base_uri": "https://localhost:8080/",
          "height": 458
        },
        "id": "zZBATZ5RQlHv",
        "outputId": "cd9a2f6b-7d59-4a19-e183-24ab5d9fcb1e"
      },
      "execution_count": null,
      "outputs": [
        {
          "output_type": "display_data",
          "data": {
            "text/plain": [
              "<Figure size 504x504 with 1 Axes>"
            ],
            "image/png": "[encoded data removed]"
          },
          "metadata": {
            "needs_background": "light"
          }
        }
      ]
    },
    {
      "cell_type": "code",
      "source": [
        "# let's save our model\n",
        "from pathlib import Path\n",
        "MODEL_PATH = Path(\"models\")\n",
        "MODEL_PATH.mkdir(parents=True, exist_ok=True)\n",
        "\n",
        "MODEL_NAME = \"model_v2_1.pth\"\n",
        "\n",
        "MODEL_SAVE = MODEL_PATH / MODEL_NAME\n",
        "\n",
        "model_v2.save_model(MODEL_SAVE)"
      ],
      "metadata": {
        "id": "s7_8zT6mRTA1"
      },
      "execution_count": null,
      "outputs": []
    },
    {
      "cell_type": "code",
      "source": [
        "# loading model\n",
        "model_v2_2 = LinearRegressionModelV3(device)\n",
        "model_v2_2.load_model(MODEL_SAVE)\n",
        "print(model_v2_2.state_dict())"
      ],
      "metadata": {
        "colab": {
          "base_uri": "https://localhost:8080/"
        },
        "id": "Pp0krkAhSCgL",
        "outputId": "1b9b6fa2-565c-4f5f-d874-6ef6d5f453b0"
      },
      "execution_count": null,
      "outputs": [
        {
          "output_type": "stream",
          "name": "stdout",
          "text": [
            "OrderedDict([('linear_layer.weight', tensor([[4.9874]], device='cuda:0')), ('linear_layer.bias', tensor([1.9905], device='cuda:0'))])\n"
          ]
        }
      ]
    },
    {
      "cell_type": "code",
      "source": [],
      "metadata": {
        "id": "Vw7x2UiDSmX4"
      },
      "execution_count": null,
      "outputs": []
    }
  ]
}